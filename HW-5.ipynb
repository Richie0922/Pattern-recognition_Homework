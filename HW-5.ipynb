{
 "cells": [
  {
   "cell_type": "markdown",
   "metadata": {
    "colab_type": "text"
   },
   "source": [
    "This is a companion notebook for the book [Deep Learning with Python, Second Edition](https://www.manning.com/books/deep-learning-with-python-second-edition?a_aid=keras&a_bid=76564dff). For readability, it only contains runnable code blocks and section titles, and omits everything else in the book: text paragraphs, figures, and pseudocode.\n",
    "\n",
    "**If you want to be able to follow what's going on, I recommend reading the notebook side by side with your copy of the book.**\n",
    "\n",
    "This notebook was generated for TensorFlow 2.6."
   ]
  },
  {
   "cell_type": "markdown",
   "metadata": {
    "colab_type": "text"
   },
   "source": [
    "# Fundamentals of machine learning"
   ]
  },
  {
   "cell_type": "markdown",
   "metadata": {
    "colab_type": "text"
   },
   "source": [
    "## Generalization: The goal of machine learning"
   ]
  },
  {
   "cell_type": "markdown",
   "metadata": {
    "colab_type": "text"
   },
   "source": [
    "### Underfitting and overfitting"
   ]
  },
  {
   "cell_type": "markdown",
   "metadata": {
    "colab_type": "text"
   },
   "source": [
    "#### Noisy training data"
   ]
  },
  {
   "cell_type": "markdown",
   "metadata": {
    "colab_type": "text"
   },
   "source": [
    "#### Ambiguous features"
   ]
  },
  {
   "cell_type": "markdown",
   "metadata": {
    "colab_type": "text"
   },
   "source": [
    "#### Rare features and spurious correlations"
   ]
  },
  {
   "cell_type": "markdown",
   "metadata": {
    "colab_type": "text"
   },
   "source": [
    "**Adding white-noise channels or all-zeros channels to MNIST**"
   ]
  },
  {
   "cell_type": "code",
   "execution_count": 1,
   "metadata": {
    "colab_type": "code"
   },
   "outputs": [],
   "source": [
    "from tensorflow.keras.datasets import mnist\n",
    "import numpy as np\n",
    "\n",
    "(train_images, train_labels), _ = mnist.load_data()\n",
    "train_images = train_images.reshape((60000, 28 * 28))\n",
    "train_images = train_images.astype(\"float32\") / 255\n",
    "\n",
    "train_images_with_noise_channels = np.concatenate(\n",
    "    [train_images, np.random.random((len(train_images), 784))], axis=1)\n",
    "\n",
    "train_images_with_zeros_channels = np.concatenate(\n",
    "    [train_images, np.zeros((len(train_images), 784))], axis=1)"
   ]
  },
  {
   "cell_type": "markdown",
   "metadata": {
    "colab_type": "text"
   },
   "source": [
    "**Training the same model on MNIST data with noise channels or all-zero channels**"
   ]
  },
  {
   "cell_type": "code",
   "execution_count": 2,
   "metadata": {
    "colab_type": "code"
   },
   "outputs": [
    {
     "name": "stdout",
     "output_type": "stream",
     "text": [
      "Epoch 1/10\n",
      "375/375 [==============================] - 4s 3ms/step - loss: 0.6243 - accuracy: 0.8100 - val_loss: 0.2890 - val_accuracy: 0.9133\n",
      "Epoch 2/10\n",
      "375/375 [==============================] - 1s 2ms/step - loss: 0.2530 - accuracy: 0.9211 - val_loss: 0.1784 - val_accuracy: 0.9495\n",
      "Epoch 3/10\n",
      "375/375 [==============================] - 1s 2ms/step - loss: 0.1634 - accuracy: 0.9501 - val_loss: 0.1376 - val_accuracy: 0.9597\n",
      "Epoch 4/10\n",
      "375/375 [==============================] - 1s 2ms/step - loss: 0.1161 - accuracy: 0.9638 - val_loss: 0.1610 - val_accuracy: 0.9543\n",
      "Epoch 5/10\n",
      "375/375 [==============================] - 1s 2ms/step - loss: 0.0849 - accuracy: 0.9730 - val_loss: 0.1376 - val_accuracy: 0.9615\n",
      "Epoch 6/10\n",
      "375/375 [==============================] - 1s 2ms/step - loss: 0.0632 - accuracy: 0.9798 - val_loss: 0.1387 - val_accuracy: 0.9602\n",
      "Epoch 7/10\n",
      "375/375 [==============================] - 1s 2ms/step - loss: 0.0481 - accuracy: 0.9843 - val_loss: 0.1274 - val_accuracy: 0.9658\n",
      "Epoch 8/10\n",
      "375/375 [==============================] - 1s 2ms/step - loss: 0.0357 - accuracy: 0.9884 - val_loss: 0.1376 - val_accuracy: 0.9646\n",
      "Epoch 9/10\n",
      "375/375 [==============================] - 1s 2ms/step - loss: 0.0259 - accuracy: 0.9916 - val_loss: 0.1825 - val_accuracy: 0.9561\n",
      "Epoch 10/10\n",
      "375/375 [==============================] - 1s 2ms/step - loss: 0.0202 - accuracy: 0.9933 - val_loss: 0.1382 - val_accuracy: 0.9682\n",
      "Epoch 1/10\n",
      "375/375 [==============================] - 1s 3ms/step - loss: 0.2894 - accuracy: 0.9164 - val_loss: 0.1616 - val_accuracy: 0.9532\n",
      "Epoch 2/10\n",
      "375/375 [==============================] - 1s 2ms/step - loss: 0.1205 - accuracy: 0.9648 - val_loss: 0.1055 - val_accuracy: 0.9690\n",
      "Epoch 3/10\n",
      "375/375 [==============================] - 1s 2ms/step - loss: 0.0784 - accuracy: 0.9760 - val_loss: 0.0908 - val_accuracy: 0.9731\n",
      "Epoch 4/10\n",
      "375/375 [==============================] - 1s 2ms/step - loss: 0.0569 - accuracy: 0.9830 - val_loss: 0.0921 - val_accuracy: 0.9729\n",
      "Epoch 5/10\n",
      "375/375 [==============================] - 1s 2ms/step - loss: 0.0423 - accuracy: 0.9878 - val_loss: 0.0845 - val_accuracy: 0.9759\n",
      "Epoch 6/10\n",
      "375/375 [==============================] - 1s 2ms/step - loss: 0.0317 - accuracy: 0.9906 - val_loss: 0.0833 - val_accuracy: 0.9767\n",
      "Epoch 7/10\n",
      "375/375 [==============================] - 1s 2ms/step - loss: 0.0241 - accuracy: 0.9930 - val_loss: 0.0870 - val_accuracy: 0.9767\n",
      "Epoch 8/10\n",
      "375/375 [==============================] - 1s 2ms/step - loss: 0.0185 - accuracy: 0.9946 - val_loss: 0.0847 - val_accuracy: 0.9775\n",
      "Epoch 9/10\n",
      "375/375 [==============================] - 1s 2ms/step - loss: 0.0139 - accuracy: 0.9962 - val_loss: 0.0958 - val_accuracy: 0.9754\n",
      "Epoch 10/10\n",
      "375/375 [==============================] - 1s 2ms/step - loss: 0.0102 - accuracy: 0.9971 - val_loss: 0.0845 - val_accuracy: 0.9790\n"
     ]
    }
   ],
   "source": [
    "from tensorflow import keras\n",
    "from tensorflow.keras import layers\n",
    "\n",
    "def get_model():\n",
    "    model = keras.Sequential([\n",
    "        layers.Dense(512, activation=\"relu\"),\n",
    "        layers.Dense(10, activation=\"softmax\")\n",
    "    ])\n",
    "    model.compile(optimizer=\"rmsprop\",\n",
    "                  loss=\"sparse_categorical_crossentropy\",\n",
    "                  metrics=[\"accuracy\"])\n",
    "    return model\n",
    "\n",
    "model = get_model()\n",
    "history_noise = model.fit(\n",
    "    train_images_with_noise_channels, train_labels,\n",
    "    epochs=10,\n",
    "    batch_size=128,\n",
    "    validation_split=0.2)\n",
    "\n",
    "model = get_model()\n",
    "history_zeros = model.fit(\n",
    "    train_images_with_zeros_channels, train_labels,\n",
    "    epochs=10,\n",
    "    batch_size=128,\n",
    "    validation_split=0.2)"
   ]
  },
  {
   "cell_type": "markdown",
   "metadata": {
    "colab_type": "text"
   },
   "source": [
    "**Plotting a validation accuracy comparison**"
   ]
  },
  {
   "cell_type": "code",
   "execution_count": 3,
   "metadata": {
    "colab_type": "code"
   },
   "outputs": [
    {
     "data": {
      "text/plain": [
       "<matplotlib.legend.Legend at 0x1a9c024da60>"
      ]
     },
     "execution_count": 3,
     "metadata": {},
     "output_type": "execute_result"
    },
    {
     "data": {
      "image/png": "[encoded data removed]",
      "text/plain": [
       "<Figure size 432x288 with 1 Axes>"
      ]
     },
     "metadata": {
      "needs_background": "light"
     },
     "output_type": "display_data"
    }
   ],
   "source": [
    "import matplotlib.pyplot as plt\n",
    "val_acc_noise = history_noise.history[\"val_accuracy\"]\n",
    "val_acc_zeros = history_zeros.history[\"val_accuracy\"]\n",
    "epochs = range(1, 11)\n",
    "plt.plot(epochs, val_acc_noise, \"b-\",\n",
    "         label=\"Validation accuracy with noise channels\")\n",
    "plt.plot(epochs, val_acc_zeros, \"b--\",\n",
    "         label=\"Validation accuracy with zeros channels\")\n",
    "plt.title(\"Effect of noise channels on validation accuracy\")\n",
    "plt.xlabel(\"Epochs\")\n",
    "plt.ylabel(\"Accuracy\")\n",
    "plt.legend()"
   ]
  },
  {
   "cell_type": "markdown",
   "metadata": {
    "colab_type": "text"
   },
   "source": [
    "### The nature of generalization in deep learning"
   ]
  },
  {
   "cell_type": "markdown",
   "metadata": {
    "colab_type": "text"
   },
   "source": [
    "**Fitting a MNIST model with randomly shuffled labels**"
   ]
  },
  {
   "cell_type": "code",
   "execution_count": 4,
   "metadata": {
    "colab_type": "code"
   },
   "outputs": [
    {
     "name": "stdout",
     "output_type": "stream",
     "text": [
      "Epoch 1/100\n",
      "375/375 [==============================] - 1s 3ms/step - loss: 2.3178 - accuracy: 0.1011 - val_loss: 2.3064 - val_accuracy: 0.1021\n",
      "Epoch 2/100\n",
      "375/375 [==============================] - 1s 2ms/step - loss: 2.2997 - accuracy: 0.1179 - val_loss: 2.3190 - val_accuracy: 0.1040\n",
      "Epoch 3/100\n",
      "375/375 [==============================] - 1s 2ms/step - loss: 2.2907 - accuracy: 0.1275 - val_loss: 2.3133 - val_accuracy: 0.1042\n",
      "Epoch 4/100\n",
      "375/375 [==============================] - 1s 2ms/step - loss: 2.2766 - accuracy: 0.1412 - val_loss: 2.3253 - val_accuracy: 0.1047\n",
      "Epoch 5/100\n",
      "375/375 [==============================] - 1s 2ms/step - loss: 2.2595 - accuracy: 0.1554 - val_loss: 2.3330 - val_accuracy: 0.1031\n",
      "Epoch 6/100\n",
      "375/375 [==============================] - 1s 2ms/step - loss: 2.2375 - accuracy: 0.1692 - val_loss: 2.3509 - val_accuracy: 0.1033\n",
      "Epoch 7/100\n",
      "375/375 [==============================] - 1s 2ms/step - loss: 2.2145 - accuracy: 0.1841 - val_loss: 2.3623 - val_accuracy: 0.1057\n",
      "Epoch 8/100\n",
      "375/375 [==============================] - 1s 2ms/step - loss: 2.1863 - accuracy: 0.1990 - val_loss: 2.3784 - val_accuracy: 0.1023\n",
      "Epoch 9/100\n",
      "375/375 [==============================] - 1s 2ms/step - loss: 2.1569 - accuracy: 0.2157 - val_loss: 2.3928 - val_accuracy: 0.1048\n",
      "Epoch 10/100\n",
      "375/375 [==============================] - 1s 2ms/step - loss: 2.1253 - accuracy: 0.2318 - val_loss: 2.4215 - val_accuracy: 0.1015\n",
      "Epoch 11/100\n",
      "375/375 [==============================] - 1s 2ms/step - loss: 2.0934 - accuracy: 0.2491 - val_loss: 2.4417 - val_accuracy: 0.1037\n",
      "Epoch 12/100\n",
      "375/375 [==============================] - 1s 2ms/step - loss: 2.0610 - accuracy: 0.2623 - val_loss: 2.4733 - val_accuracy: 0.0972\n",
      "Epoch 13/100\n",
      "375/375 [==============================] - 1s 2ms/step - loss: 2.0254 - accuracy: 0.2778 - val_loss: 2.4976 - val_accuracy: 0.1014\n",
      "Epoch 14/100\n",
      "375/375 [==============================] - 1s 2ms/step - loss: 1.9921 - accuracy: 0.2926 - val_loss: 2.5248 - val_accuracy: 0.1002\n",
      "Epoch 15/100\n",
      "375/375 [==============================] - 1s 2ms/step - loss: 1.9569 - accuracy: 0.3071 - val_loss: 2.5511 - val_accuracy: 0.1000\n",
      "Epoch 16/100\n",
      "375/375 [==============================] - 1s 2ms/step - loss: 1.9249 - accuracy: 0.3208 - val_loss: 2.5712 - val_accuracy: 0.1036\n",
      "Epoch 17/100\n",
      "375/375 [==============================] - 1s 2ms/step - loss: 1.8913 - accuracy: 0.3354 - val_loss: 2.6184 - val_accuracy: 0.1006\n",
      "Epoch 18/100\n",
      "375/375 [==============================] - 1s 2ms/step - loss: 1.8590 - accuracy: 0.3506 - val_loss: 2.6564 - val_accuracy: 0.1018\n",
      "Epoch 19/100\n",
      "375/375 [==============================] - 1s 2ms/step - loss: 1.8248 - accuracy: 0.3596 - val_loss: 2.6821 - val_accuracy: 0.1007\n",
      "Epoch 20/100\n",
      "375/375 [==============================] - 1s 2ms/step - loss: 1.7941 - accuracy: 0.3728 - val_loss: 2.7202 - val_accuracy: 0.1038\n",
      "Epoch 21/100\n",
      "375/375 [==============================] - 1s 2ms/step - loss: 1.7624 - accuracy: 0.3859 - val_loss: 2.7414 - val_accuracy: 0.1009\n",
      "Epoch 22/100\n",
      "375/375 [==============================] - 1s 2ms/step - loss: 1.7310 - accuracy: 0.3972 - val_loss: 2.7920 - val_accuracy: 0.1031\n",
      "Epoch 23/100\n",
      "375/375 [==============================] - 1s 2ms/step - loss: 1.7004 - accuracy: 0.4088 - val_loss: 2.8186 - val_accuracy: 0.1060\n",
      "Epoch 24/100\n",
      "375/375 [==============================] - 1s 2ms/step - loss: 1.6724 - accuracy: 0.4209 - val_loss: 2.8829 - val_accuracy: 0.1029\n",
      "Epoch 25/100\n",
      "375/375 [==============================] - 1s 2ms/step - loss: 1.6442 - accuracy: 0.4313 - val_loss: 2.8924 - val_accuracy: 0.1023\n",
      "Epoch 26/100\n",
      "375/375 [==============================] - 1s 2ms/step - loss: 1.6153 - accuracy: 0.4417 - val_loss: 2.9474 - val_accuracy: 0.1058\n",
      "Epoch 27/100\n",
      "375/375 [==============================] - 1s 2ms/step - loss: 1.5861 - accuracy: 0.4531 - val_loss: 2.9824 - val_accuracy: 0.1058\n",
      "Epoch 28/100\n",
      "375/375 [==============================] - 1s 2ms/step - loss: 1.5610 - accuracy: 0.4636 - val_loss: 3.0305 - val_accuracy: 0.0999\n",
      "Epoch 29/100\n",
      "375/375 [==============================] - 1s 2ms/step - loss: 1.5358 - accuracy: 0.4694 - val_loss: 3.0731 - val_accuracy: 0.1058\n",
      "Epoch 30/100\n",
      "375/375 [==============================] - 1s 2ms/step - loss: 1.5111 - accuracy: 0.4773 - val_loss: 3.1021 - val_accuracy: 0.1023\n",
      "Epoch 31/100\n",
      "375/375 [==============================] - 1s 2ms/step - loss: 1.4835 - accuracy: 0.4909 - val_loss: 3.1699 - val_accuracy: 0.1045\n",
      "Epoch 32/100\n",
      "375/375 [==============================] - 1s 2ms/step - loss: 1.4593 - accuracy: 0.4988 - val_loss: 3.1918 - val_accuracy: 0.0991\n",
      "Epoch 33/100\n",
      "375/375 [==============================] - 1s 2ms/step - loss: 1.4365 - accuracy: 0.5062 - val_loss: 3.2696 - val_accuracy: 0.1032\n",
      "Epoch 34/100\n",
      "375/375 [==============================] - 1s 2ms/step - loss: 1.4139 - accuracy: 0.5167 - val_loss: 3.2911 - val_accuracy: 0.0997\n",
      "Epoch 35/100\n",
      "375/375 [==============================] - 1s 2ms/step - loss: 1.3903 - accuracy: 0.5253 - val_loss: 3.3072 - val_accuracy: 0.1023\n",
      "Epoch 36/100\n",
      "375/375 [==============================] - 1s 2ms/step - loss: 1.3685 - accuracy: 0.5340 - val_loss: 3.3666 - val_accuracy: 0.1011\n",
      "Epoch 37/100\n",
      "375/375 [==============================] - 1s 2ms/step - loss: 1.3446 - accuracy: 0.5410 - val_loss: 3.4275 - val_accuracy: 0.1007\n",
      "Epoch 38/100\n",
      "375/375 [==============================] - 1s 2ms/step - loss: 1.3241 - accuracy: 0.5513 - val_loss: 3.4792 - val_accuracy: 0.1058\n",
      "Epoch 39/100\n",
      "375/375 [==============================] - 1s 2ms/step - loss: 1.3043 - accuracy: 0.5557 - val_loss: 3.5193 - val_accuracy: 0.1017\n",
      "Epoch 40/100\n",
      "375/375 [==============================] - 1s 2ms/step - loss: 1.2834 - accuracy: 0.5638 - val_loss: 3.5568 - val_accuracy: 0.1002\n",
      "Epoch 41/100\n",
      "375/375 [==============================] - 1s 2ms/step - loss: 1.2645 - accuracy: 0.5722 - val_loss: 3.5925 - val_accuracy: 0.1037\n",
      "Epoch 42/100\n",
      "375/375 [==============================] - 1s 2ms/step - loss: 1.2431 - accuracy: 0.5779 - val_loss: 3.6709 - val_accuracy: 0.1033\n",
      "Epoch 43/100\n",
      "375/375 [==============================] - 1s 2ms/step - loss: 1.2229 - accuracy: 0.5865 - val_loss: 3.7291 - val_accuracy: 0.1032\n",
      "Epoch 44/100\n",
      "375/375 [==============================] - 1s 2ms/step - loss: 1.2049 - accuracy: 0.5936 - val_loss: 3.7731 - val_accuracy: 0.1003\n",
      "Epoch 45/100\n",
      "375/375 [==============================] - 1s 2ms/step - loss: 1.1865 - accuracy: 0.5981 - val_loss: 3.8094 - val_accuracy: 0.1002\n",
      "Epoch 46/100\n",
      "375/375 [==============================] - 1s 2ms/step - loss: 1.1677 - accuracy: 0.6061 - val_loss: 3.8483 - val_accuracy: 0.1034\n",
      "Epoch 47/100\n",
      "375/375 [==============================] - 1s 2ms/step - loss: 1.1501 - accuracy: 0.6115 - val_loss: 3.9220 - val_accuracy: 0.1053\n",
      "Epoch 48/100\n",
      "375/375 [==============================] - 1s 2ms/step - loss: 1.1324 - accuracy: 0.6186 - val_loss: 3.9913 - val_accuracy: 0.1039\n",
      "Epoch 49/100\n",
      "375/375 [==============================] - 1s 2ms/step - loss: 1.1160 - accuracy: 0.6240 - val_loss: 4.0156 - val_accuracy: 0.0989\n",
      "Epoch 50/100\n",
      "375/375 [==============================] - 1s 2ms/step - loss: 1.1004 - accuracy: 0.6299 - val_loss: 4.0845 - val_accuracy: 0.1031\n",
      "Epoch 51/100\n",
      "375/375 [==============================] - 1s 2ms/step - loss: 1.0827 - accuracy: 0.6365 - val_loss: 4.1409 - val_accuracy: 0.1002\n",
      "Epoch 52/100\n",
      "375/375 [==============================] - 1s 2ms/step - loss: 1.0668 - accuracy: 0.6399 - val_loss: 4.2121 - val_accuracy: 0.1067\n",
      "Epoch 53/100\n",
      "375/375 [==============================] - 1s 2ms/step - loss: 1.0494 - accuracy: 0.6487 - val_loss: 4.2424 - val_accuracy: 0.1047\n",
      "Epoch 54/100\n",
      "375/375 [==============================] - 1s 2ms/step - loss: 1.0336 - accuracy: 0.6540 - val_loss: 4.3123 - val_accuracy: 0.1016\n",
      "Epoch 55/100\n",
      "375/375 [==============================] - 1s 2ms/step - loss: 1.0197 - accuracy: 0.6592 - val_loss: 4.3453 - val_accuracy: 0.1009\n",
      "Epoch 56/100\n",
      "375/375 [==============================] - 1s 2ms/step - loss: 1.0034 - accuracy: 0.6626 - val_loss: 4.3970 - val_accuracy: 0.1031\n",
      "Epoch 57/100\n",
      "375/375 [==============================] - 1s 2ms/step - loss: 0.9897 - accuracy: 0.6684 - val_loss: 4.4557 - val_accuracy: 0.1048\n",
      "Epoch 58/100\n",
      "375/375 [==============================] - 1s 2ms/step - loss: 0.9762 - accuracy: 0.6743 - val_loss: 4.4993 - val_accuracy: 0.1065\n",
      "Epoch 59/100\n",
      "375/375 [==============================] - 1s 2ms/step - loss: 0.9608 - accuracy: 0.6792 - val_loss: 4.5624 - val_accuracy: 0.1007\n",
      "Epoch 60/100\n",
      "375/375 [==============================] - 1s 2ms/step - loss: 0.9449 - accuracy: 0.6840 - val_loss: 4.5886 - val_accuracy: 0.1017\n",
      "Epoch 61/100\n",
      "375/375 [==============================] - 1s 2ms/step - loss: 0.9340 - accuracy: 0.6881 - val_loss: 4.6772 - val_accuracy: 0.1038\n",
      "Epoch 62/100\n",
      "375/375 [==============================] - 1s 2ms/step - loss: 0.9199 - accuracy: 0.6943 - val_loss: 4.7316 - val_accuracy: 0.0998\n",
      "Epoch 63/100\n",
      "375/375 [==============================] - 1s 2ms/step - loss: 0.9030 - accuracy: 0.6979 - val_loss: 4.8021 - val_accuracy: 0.1051\n",
      "Epoch 64/100\n",
      "375/375 [==============================] - 1s 2ms/step - loss: 0.8930 - accuracy: 0.7045 - val_loss: 4.8339 - val_accuracy: 0.1016\n",
      "Epoch 65/100\n",
      "375/375 [==============================] - 1s 2ms/step - loss: 0.8793 - accuracy: 0.7092 - val_loss: 4.8675 - val_accuracy: 0.1038\n",
      "Epoch 66/100\n",
      "375/375 [==============================] - 1s 2ms/step - loss: 0.8649 - accuracy: 0.7131 - val_loss: 4.9619 - val_accuracy: 0.1047\n",
      "Epoch 67/100\n",
      "375/375 [==============================] - 1s 2ms/step - loss: 0.8543 - accuracy: 0.7167 - val_loss: 5.0231 - val_accuracy: 0.1052\n",
      "Epoch 68/100\n",
      "375/375 [==============================] - 1s 2ms/step - loss: 0.8409 - accuracy: 0.7215 - val_loss: 5.0938 - val_accuracy: 0.1043\n",
      "Epoch 69/100\n",
      "375/375 [==============================] - 1s 2ms/step - loss: 0.8301 - accuracy: 0.7255 - val_loss: 5.1624 - val_accuracy: 0.0988\n",
      "Epoch 70/100\n",
      "375/375 [==============================] - 1s 2ms/step - loss: 0.8169 - accuracy: 0.7313 - val_loss: 5.2052 - val_accuracy: 0.1028\n",
      "Epoch 71/100\n",
      "375/375 [==============================] - 1s 2ms/step - loss: 0.8070 - accuracy: 0.7326 - val_loss: 5.2566 - val_accuracy: 0.1051\n",
      "Epoch 72/100\n",
      "375/375 [==============================] - 1s 2ms/step - loss: 0.7934 - accuracy: 0.7376 - val_loss: 5.3350 - val_accuracy: 0.1061\n",
      "Epoch 73/100\n",
      "375/375 [==============================] - 1s 2ms/step - loss: 0.7849 - accuracy: 0.7420 - val_loss: 5.3711 - val_accuracy: 0.1024\n",
      "Epoch 74/100\n",
      "375/375 [==============================] - 1s 2ms/step - loss: 0.7731 - accuracy: 0.7452 - val_loss: 5.4340 - val_accuracy: 0.1031\n",
      "Epoch 75/100\n",
      "375/375 [==============================] - 1s 2ms/step - loss: 0.7594 - accuracy: 0.7517 - val_loss: 5.5254 - val_accuracy: 0.1050\n",
      "Epoch 76/100\n",
      "375/375 [==============================] - 1s 2ms/step - loss: 0.7514 - accuracy: 0.7533 - val_loss: 5.5540 - val_accuracy: 0.1044\n",
      "Epoch 77/100\n",
      "375/375 [==============================] - 1s 2ms/step - loss: 0.7403 - accuracy: 0.7560 - val_loss: 5.6155 - val_accuracy: 0.1032\n",
      "Epoch 78/100\n",
      "375/375 [==============================] - 1s 2ms/step - loss: 0.7298 - accuracy: 0.7602 - val_loss: 5.6816 - val_accuracy: 0.1035\n",
      "Epoch 79/100\n",
      "375/375 [==============================] - 1s 2ms/step - loss: 0.7203 - accuracy: 0.7643 - val_loss: 5.7489 - val_accuracy: 0.1032\n",
      "Epoch 80/100\n",
      "375/375 [==============================] - 1s 2ms/step - loss: 0.7090 - accuracy: 0.7688 - val_loss: 5.8551 - val_accuracy: 0.1022\n",
      "Epoch 81/100\n",
      "375/375 [==============================] - 1s 2ms/step - loss: 0.7023 - accuracy: 0.7703 - val_loss: 5.8299 - val_accuracy: 0.1055\n",
      "Epoch 82/100\n",
      "375/375 [==============================] - 1s 2ms/step - loss: 0.6882 - accuracy: 0.7764 - val_loss: 5.9089 - val_accuracy: 0.1023\n",
      "Epoch 83/100\n",
      "375/375 [==============================] - 1s 2ms/step - loss: 0.6808 - accuracy: 0.7775 - val_loss: 5.9855 - val_accuracy: 0.1036\n",
      "Epoch 84/100\n",
      "375/375 [==============================] - 1s 2ms/step - loss: 0.6700 - accuracy: 0.7817 - val_loss: 6.0569 - val_accuracy: 0.1032\n",
      "Epoch 85/100\n",
      "375/375 [==============================] - 1s 2ms/step - loss: 0.6617 - accuracy: 0.7846 - val_loss: 6.1591 - val_accuracy: 0.0994\n",
      "Epoch 86/100\n",
      "375/375 [==============================] - 1s 2ms/step - loss: 0.6531 - accuracy: 0.7851 - val_loss: 6.1991 - val_accuracy: 0.1011\n",
      "Epoch 87/100\n",
      "375/375 [==============================] - 1s 2ms/step - loss: 0.6452 - accuracy: 0.7908 - val_loss: 6.2205 - val_accuracy: 0.1004\n",
      "Epoch 88/100\n",
      "375/375 [==============================] - 1s 2ms/step - loss: 0.6354 - accuracy: 0.7910 - val_loss: 6.3265 - val_accuracy: 0.1052\n",
      "Epoch 89/100\n",
      "375/375 [==============================] - 1s 2ms/step - loss: 0.6248 - accuracy: 0.7977 - val_loss: 6.3946 - val_accuracy: 0.0997\n",
      "Epoch 90/100\n",
      "375/375 [==============================] - 1s 2ms/step - loss: 0.6168 - accuracy: 0.8003 - val_loss: 6.4481 - val_accuracy: 0.1041\n",
      "Epoch 91/100\n",
      "375/375 [==============================] - 1s 2ms/step - loss: 0.6082 - accuracy: 0.8022 - val_loss: 6.5438 - val_accuracy: 0.1016\n",
      "Epoch 92/100\n",
      "375/375 [==============================] - 1s 2ms/step - loss: 0.6000 - accuracy: 0.8060 - val_loss: 6.5790 - val_accuracy: 0.1037\n",
      "Epoch 93/100\n",
      "375/375 [==============================] - 1s 2ms/step - loss: 0.5918 - accuracy: 0.8099 - val_loss: 6.6329 - val_accuracy: 0.1032\n",
      "Epoch 94/100\n",
      "375/375 [==============================] - 1s 2ms/step - loss: 0.5831 - accuracy: 0.8124 - val_loss: 6.6680 - val_accuracy: 0.1043\n",
      "Epoch 95/100\n",
      "375/375 [==============================] - 1s 2ms/step - loss: 0.5767 - accuracy: 0.8138 - val_loss: 6.7963 - val_accuracy: 0.1019\n",
      "Epoch 96/100\n",
      "375/375 [==============================] - 1s 2ms/step - loss: 0.5677 - accuracy: 0.8155 - val_loss: 6.8366 - val_accuracy: 0.1036\n",
      "Epoch 97/100\n",
      "375/375 [==============================] - 1s 2ms/step - loss: 0.5612 - accuracy: 0.8175 - val_loss: 6.8876 - val_accuracy: 0.1063\n",
      "Epoch 98/100\n",
      "375/375 [==============================] - 1s 2ms/step - loss: 0.5550 - accuracy: 0.8215 - val_loss: 6.9524 - val_accuracy: 0.1066\n",
      "Epoch 99/100\n",
      "375/375 [==============================] - 1s 2ms/step - loss: 0.5454 - accuracy: 0.8237 - val_loss: 7.0014 - val_accuracy: 0.1018\n",
      "Epoch 100/100\n",
      "375/375 [==============================] - 1s 2ms/step - loss: 0.5374 - accuracy: 0.8255 - val_loss: 7.0613 - val_accuracy: 0.1071\n"
     ]
    },
    {
     "data": {
      "text/plain": [
       "<keras.callbacks.History at 0x1a78c32d490>"
      ]
     },
     "execution_count": 4,
     "metadata": {},
     "output_type": "execute_result"
    }
   ],
   "source": [
    "(train_images, train_labels), _ = mnist.load_data()\n",
    "train_images = train_images.reshape((60000, 28 * 28))\n",
    "train_images = train_images.astype(\"float32\") / 255\n",
    "\n",
    "random_train_labels = train_labels[:]\n",
    "np.random.shuffle(random_train_labels)\n",
    "\n",
    "model = keras.Sequential([\n",
    "    layers.Dense(512, activation=\"relu\"),\n",
    "    layers.Dense(10, activation=\"softmax\")\n",
    "])\n",
    "model.compile(optimizer=\"rmsprop\",\n",
    "              loss=\"sparse_categorical_crossentropy\",\n",
    "              metrics=[\"accuracy\"])\n",
    "model.fit(train_images, random_train_labels,\n",
    "          epochs=100,\n",
    "          batch_size=128,\n",
    "          validation_split=0.2)"
   ]
  },
  {
   "cell_type": "markdown",
   "metadata": {
    "colab_type": "text"
   },
   "source": [
    "#### The manifold hypothesis"
   ]
  },
  {
   "cell_type": "markdown",
   "metadata": {
    "colab_type": "text"
   },
   "source": [
    "#### Interpolation as a source of generalization"
   ]
  },
  {
   "cell_type": "markdown",
   "metadata": {
    "colab_type": "text"
   },
   "source": [
    "#### Why deep learning works"
   ]
  },
  {
   "cell_type": "markdown",
   "metadata": {
    "colab_type": "text"
   },
   "source": [
    "#### Training data is paramount"
   ]
  },
  {
   "cell_type": "markdown",
   "metadata": {
    "colab_type": "text"
   },
   "source": [
    "## Evaluating machine-learning models"
   ]
  },
  {
   "cell_type": "markdown",
   "metadata": {
    "colab_type": "text"
   },
   "source": [
    "### Training, validation, and test sets"
   ]
  },
  {
   "cell_type": "markdown",
   "metadata": {
    "colab_type": "text"
   },
   "source": [
    "#### Simple hold-out validation"
   ]
  },
  {
   "cell_type": "markdown",
   "metadata": {
    "colab_type": "text"
   },
   "source": [
    "#### K-fold validation"
   ]
  },
  {
   "cell_type": "markdown",
   "metadata": {
    "colab_type": "text"
   },
   "source": [
    "#### Iterated K-fold validation with shuffling"
   ]
  },
  {
   "cell_type": "markdown",
   "metadata": {
    "colab_type": "text"
   },
   "source": [
    "### Beating a common-sense baseline"
   ]
  },
  {
   "cell_type": "markdown",
   "metadata": {
    "colab_type": "text"
   },
   "source": [
    "### Things to keep in mind about model evaluation"
   ]
  },
  {
   "cell_type": "markdown",
   "metadata": {
    "colab_type": "text"
   },
   "source": [
    "## Improving model fit"
   ]
  },
  {
   "cell_type": "markdown",
   "metadata": {
    "colab_type": "text"
   },
   "source": [
    "### Tuning key gradient descent parameters"
   ]
  },
  {
   "cell_type": "markdown",
   "metadata": {
    "colab_type": "text"
   },
   "source": [
    "**Training a MNIST model with an incorrectly high learning rate**"
   ]
  },
  {
   "cell_type": "code",
   "execution_count": 5,
   "metadata": {
    "colab_type": "code"
   },
   "outputs": [
    {
     "name": "stdout",
     "output_type": "stream",
     "text": [
      "Epoch 1/10\n",
      "375/375 [==============================] - 1s 3ms/step - loss: 1076.1730 - accuracy: 0.4099 - val_loss: 2.6454 - val_accuracy: 0.2562\n",
      "Epoch 2/10\n",
      "375/375 [==============================] - 1s 2ms/step - loss: 5.6130 - accuracy: 0.2596 - val_loss: 1.9882 - val_accuracy: 0.2726\n",
      "Epoch 3/10\n",
      "375/375 [==============================] - 1s 2ms/step - loss: 2.5301 - accuracy: 0.2756 - val_loss: 2.2484 - val_accuracy: 0.2970\n",
      "Epoch 4/10\n",
      "375/375 [==============================] - 1s 2ms/step - loss: 2.9354 - accuracy: 0.2689 - val_loss: 2.1950 - val_accuracy: 0.2412\n",
      "Epoch 5/10\n",
      "375/375 [==============================] - 1s 2ms/step - loss: 2.6500 - accuracy: 0.2639 - val_loss: 1.9887 - val_accuracy: 0.2702\n",
      "Epoch 6/10\n",
      "375/375 [==============================] - 1s 2ms/step - loss: 2.9021 - accuracy: 0.2797 - val_loss: 2.1238 - val_accuracy: 0.2812\n",
      "Epoch 7/10\n",
      "375/375 [==============================] - 1s 2ms/step - loss: 2.4670 - accuracy: 0.2974 - val_loss: 2.2273 - val_accuracy: 0.2828\n",
      "Epoch 8/10\n",
      "375/375 [==============================] - 1s 2ms/step - loss: 2.2364 - accuracy: 0.2915 - val_loss: 2.0148 - val_accuracy: 0.2703\n",
      "Epoch 9/10\n",
      "375/375 [==============================] - 1s 2ms/step - loss: 2.3973 - accuracy: 0.2738 - val_loss: 2.2225 - val_accuracy: 0.3021\n",
      "Epoch 10/10\n",
      "375/375 [==============================] - 1s 2ms/step - loss: 2.5509 - accuracy: 0.2929 - val_loss: 2.1064 - val_accuracy: 0.3012\n"
     ]
    },
    {
     "data": {
      "text/plain": [
       "<keras.callbacks.History at 0x1a78c596910>"
      ]
     },
     "execution_count": 5,
     "metadata": {},
     "output_type": "execute_result"
    }
   ],
   "source": [
    "(train_images, train_labels), _ = mnist.load_data()\n",
    "train_images = train_images.reshape((60000, 28 * 28))\n",
    "train_images = train_images.astype(\"float32\") / 255\n",
    "\n",
    "model = keras.Sequential([\n",
    "    layers.Dense(512, activation=\"relu\"),\n",
    "    layers.Dense(10, activation=\"softmax\")\n",
    "])\n",
    "model.compile(optimizer=keras.optimizers.RMSprop(1.),\n",
    "              loss=\"sparse_categorical_crossentropy\",\n",
    "              metrics=[\"accuracy\"])\n",
    "model.fit(train_images, train_labels,\n",
    "          epochs=10,\n",
    "          batch_size=128,\n",
    "          validation_split=0.2)"
   ]
  },
  {
   "cell_type": "markdown",
   "metadata": {
    "colab_type": "text"
   },
   "source": [
    "**The same model with a more appropriate learning rate**"
   ]
  },
  {
   "cell_type": "code",
   "execution_count": 6,
   "metadata": {
    "colab_type": "code"
   },
   "outputs": [
    {
     "name": "stdout",
     "output_type": "stream",
     "text": [
      "Epoch 1/10\n",
      "375/375 [==============================] - 1s 3ms/step - loss: 0.3509 - accuracy: 0.9116 - val_loss: 0.1765 - val_accuracy: 0.9504\n",
      "Epoch 2/10\n",
      "375/375 [==============================] - 1s 2ms/step - loss: 0.1417 - accuracy: 0.9629 - val_loss: 0.2044 - val_accuracy: 0.9530\n",
      "Epoch 3/10\n",
      "375/375 [==============================] - 1s 2ms/step - loss: 0.1120 - accuracy: 0.9736 - val_loss: 0.1611 - val_accuracy: 0.9697\n",
      "Epoch 4/10\n",
      "375/375 [==============================] - 1s 2ms/step - loss: 0.0976 - accuracy: 0.9789 - val_loss: 0.1960 - val_accuracy: 0.9643\n",
      "Epoch 5/10\n",
      "375/375 [==============================] - 1s 2ms/step - loss: 0.0905 - accuracy: 0.9816 - val_loss: 0.2023 - val_accuracy: 0.9702\n",
      "Epoch 6/10\n",
      "375/375 [==============================] - 1s 2ms/step - loss: 0.0748 - accuracy: 0.9848 - val_loss: 0.2348 - val_accuracy: 0.9706\n",
      "Epoch 7/10\n",
      "375/375 [==============================] - 1s 2ms/step - loss: 0.0802 - accuracy: 0.9859 - val_loss: 0.2825 - val_accuracy: 0.9667\n",
      "Epoch 8/10\n",
      "375/375 [==============================] - 1s 2ms/step - loss: 0.0698 - accuracy: 0.9872 - val_loss: 0.3206 - val_accuracy: 0.9726\n",
      "Epoch 9/10\n",
      "375/375 [==============================] - 1s 2ms/step - loss: 0.0674 - accuracy: 0.9883 - val_loss: 0.3320 - val_accuracy: 0.9702\n",
      "Epoch 10/10\n",
      "375/375 [==============================] - 1s 2ms/step - loss: 0.0598 - accuracy: 0.9896 - val_loss: 0.2968 - val_accuracy: 0.9738\n"
     ]
    },
    {
     "data": {
      "text/plain": [
       "<keras.callbacks.History at 0x1a78c9ef3a0>"
      ]
     },
     "execution_count": 6,
     "metadata": {},
     "output_type": "execute_result"
    }
   ],
   "source": [
    "model = keras.Sequential([\n",
    "    layers.Dense(512, activation=\"relu\"),\n",
    "    layers.Dense(10, activation=\"softmax\")\n",
    "])\n",
    "model.compile(optimizer=keras.optimizers.RMSprop(1e-2),\n",
    "              loss=\"sparse_categorical_crossentropy\",\n",
    "              metrics=[\"accuracy\"])\n",
    "model.fit(train_images, train_labels,\n",
    "          epochs=10,\n",
    "          batch_size=128,\n",
    "          validation_split=0.2)"
   ]
  },
  {
   "cell_type": "markdown",
   "metadata": {
    "colab_type": "text"
   },
   "source": [
    "### Leveraging better architecture priors"
   ]
  },
  {
   "cell_type": "markdown",
   "metadata": {
    "colab_type": "text"
   },
   "source": [
    "### Increasing model capacity"
   ]
  },
  {
   "cell_type": "markdown",
   "metadata": {
    "colab_type": "text"
   },
   "source": [
    "**A simple logistic regression on MNIST**"
   ]
  },
  {
   "cell_type": "code",
   "execution_count": 7,
   "metadata": {
    "colab_type": "code"
   },
   "outputs": [
    {
     "name": "stdout",
     "output_type": "stream",
     "text": [
      "Epoch 1/20\n",
      "375/375 [==============================] - 1s 2ms/step - loss: 0.6667 - accuracy: 0.8388 - val_loss: 0.3565 - val_accuracy: 0.9062\n",
      "Epoch 2/20\n",
      "375/375 [==============================] - 1s 2ms/step - loss: 0.3509 - accuracy: 0.9043 - val_loss: 0.3074 - val_accuracy: 0.9157\n",
      "Epoch 3/20\n",
      "375/375 [==============================] - 1s 2ms/step - loss: 0.3156 - accuracy: 0.9129 - val_loss: 0.2910 - val_accuracy: 0.9198\n",
      "Epoch 4/20\n",
      "375/375 [==============================] - 1s 2ms/step - loss: 0.2993 - accuracy: 0.9164 - val_loss: 0.2804 - val_accuracy: 0.9221\n",
      "Epoch 5/20\n",
      "375/375 [==============================] - 1s 2ms/step - loss: 0.2896 - accuracy: 0.9196 - val_loss: 0.2763 - val_accuracy: 0.9232\n",
      "Epoch 6/20\n",
      "375/375 [==============================] - 1s 2ms/step - loss: 0.2830 - accuracy: 0.9211 - val_loss: 0.2732 - val_accuracy: 0.9247\n",
      "Epoch 7/20\n",
      "375/375 [==============================] - 1s 2ms/step - loss: 0.2781 - accuracy: 0.9226 - val_loss: 0.2693 - val_accuracy: 0.9254\n",
      "Epoch 8/20\n",
      "375/375 [==============================] - 1s 2ms/step - loss: 0.2742 - accuracy: 0.9241 - val_loss: 0.2676 - val_accuracy: 0.9279\n",
      "Epoch 9/20\n",
      "375/375 [==============================] - 1s 2ms/step - loss: 0.2711 - accuracy: 0.9249 - val_loss: 0.2690 - val_accuracy: 0.9267\n",
      "Epoch 10/20\n",
      "375/375 [==============================] - 1s 2ms/step - loss: 0.2689 - accuracy: 0.9258 - val_loss: 0.2652 - val_accuracy: 0.9272\n",
      "Epoch 11/20\n",
      "375/375 [==============================] - 1s 2ms/step - loss: 0.2663 - accuracy: 0.9265 - val_loss: 0.2642 - val_accuracy: 0.9294\n",
      "Epoch 12/20\n",
      "375/375 [==============================] - 1s 2ms/step - loss: 0.2646 - accuracy: 0.9269 - val_loss: 0.2633 - val_accuracy: 0.9303\n",
      "Epoch 13/20\n",
      "375/375 [==============================] - 1s 2ms/step - loss: 0.2632 - accuracy: 0.9278 - val_loss: 0.2626 - val_accuracy: 0.9303\n",
      "Epoch 14/20\n",
      "375/375 [==============================] - 1s 2ms/step - loss: 0.2616 - accuracy: 0.9281 - val_loss: 0.2629 - val_accuracy: 0.9297\n",
      "Epoch 15/20\n",
      "375/375 [==============================] - 1s 2ms/step - loss: 0.2603 - accuracy: 0.9283 - val_loss: 0.2612 - val_accuracy: 0.9312\n",
      "Epoch 16/20\n",
      "375/375 [==============================] - 1s 2ms/step - loss: 0.2590 - accuracy: 0.9292 - val_loss: 0.2641 - val_accuracy: 0.9285\n",
      "Epoch 17/20\n",
      "375/375 [==============================] - 1s 2ms/step - loss: 0.2583 - accuracy: 0.9297 - val_loss: 0.2624 - val_accuracy: 0.9296\n",
      "Epoch 18/20\n",
      "375/375 [==============================] - 1s 2ms/step - loss: 0.2574 - accuracy: 0.9301 - val_loss: 0.2617 - val_accuracy: 0.9309\n",
      "Epoch 19/20\n",
      "375/375 [==============================] - 1s 2ms/step - loss: 0.2563 - accuracy: 0.9297 - val_loss: 0.2620 - val_accuracy: 0.9317\n",
      "Epoch 20/20\n",
      "375/375 [==============================] - 1s 2ms/step - loss: 0.2555 - accuracy: 0.9305 - val_loss: 0.2605 - val_accuracy: 0.9308\n"
     ]
    }
   ],
   "source": [
    "model = keras.Sequential([layers.Dense(10, activation=\"softmax\")])\n",
    "model.compile(optimizer=\"rmsprop\",\n",
    "              loss=\"sparse_categorical_crossentropy\",\n",
    "              metrics=[\"accuracy\"])\n",
    "history_small_model = model.fit(\n",
    "    train_images, train_labels,\n",
    "    epochs=20,\n",
    "    batch_size=128,\n",
    "    validation_split=0.2)"
   ]
  },
  {
   "cell_type": "code",
   "execution_count": 8,
   "metadata": {
    "colab_type": "code"
   },
   "outputs": [
    {
     "data": {
      "text/plain": [
       "<matplotlib.legend.Legend at 0x1a7a2b33be0>"
      ]
     },
     "execution_count": 8,
     "metadata": {},
     "output_type": "execute_result"
    },
    {
     "data": {
      "image/png": "[encoded data removed]",
      "text/plain": [
       "<Figure size 432x288 with 1 Axes>"
      ]
     },
     "metadata": {
      "needs_background": "light"
     },
     "output_type": "display_data"
    }
   ],
   "source": [
    "import matplotlib.pyplot as plt\n",
    "val_loss = history_small_model.history[\"val_loss\"]\n",
    "epochs = range(1, 21)\n",
    "plt.plot(epochs, val_loss, \"b--\",\n",
    "         label=\"Validation loss\")\n",
    "plt.title(\"Effect of insufficient model capacity on validation loss\")\n",
    "plt.xlabel(\"Epochs\")\n",
    "plt.ylabel(\"Loss\")\n",
    "plt.legend()"
   ]
  },
  {
   "cell_type": "code",
   "execution_count": 9,
   "metadata": {
    "colab_type": "code"
   },
   "outputs": [
    {
     "name": "stdout",
     "output_type": "stream",
     "text": [
      "Epoch 1/20\n",
      "375/375 [==============================] - 2s 3ms/step - loss: 0.3684 - accuracy: 0.8954 - val_loss: 0.1928 - val_accuracy: 0.9445\n",
      "Epoch 2/20\n",
      "375/375 [==============================] - 1s 3ms/step - loss: 0.1661 - accuracy: 0.9499 - val_loss: 0.1483 - val_accuracy: 0.9571\n",
      "Epoch 3/20\n",
      "375/375 [==============================] - 1s 3ms/step - loss: 0.1201 - accuracy: 0.9631 - val_loss: 0.1235 - val_accuracy: 0.9636\n",
      "Epoch 4/20\n",
      "375/375 [==============================] - 1s 3ms/step - loss: 0.0918 - accuracy: 0.9725 - val_loss: 0.1049 - val_accuracy: 0.9691\n",
      "Epoch 5/20\n",
      "375/375 [==============================] - 1s 3ms/step - loss: 0.0731 - accuracy: 0.9780 - val_loss: 0.1105 - val_accuracy: 0.9669\n",
      "Epoch 6/20\n",
      "375/375 [==============================] - 1s 3ms/step - loss: 0.0589 - accuracy: 0.9822 - val_loss: 0.1035 - val_accuracy: 0.9705\n",
      "Epoch 7/20\n",
      "375/375 [==============================] - 1s 3ms/step - loss: 0.0483 - accuracy: 0.9856 - val_loss: 0.0950 - val_accuracy: 0.9732\n",
      "Epoch 8/20\n",
      "375/375 [==============================] - 1s 3ms/step - loss: 0.0411 - accuracy: 0.9875 - val_loss: 0.0965 - val_accuracy: 0.9737\n",
      "Epoch 9/20\n",
      "375/375 [==============================] - 1s 3ms/step - loss: 0.0344 - accuracy: 0.9896 - val_loss: 0.1056 - val_accuracy: 0.9712\n",
      "Epoch 10/20\n",
      "375/375 [==============================] - 1s 3ms/step - loss: 0.0297 - accuracy: 0.9907 - val_loss: 0.0927 - val_accuracy: 0.9759\n",
      "Epoch 11/20\n",
      "375/375 [==============================] - 1s 3ms/step - loss: 0.0254 - accuracy: 0.9918 - val_loss: 0.1086 - val_accuracy: 0.9734\n",
      "Epoch 12/20\n",
      "375/375 [==============================] - 1s 3ms/step - loss: 0.0212 - accuracy: 0.9937 - val_loss: 0.1141 - val_accuracy: 0.9721\n",
      "Epoch 13/20\n",
      "375/375 [==============================] - 1s 3ms/step - loss: 0.0177 - accuracy: 0.9945 - val_loss: 0.1098 - val_accuracy: 0.9732\n",
      "Epoch 14/20\n",
      "375/375 [==============================] - 1s 2ms/step - loss: 0.0148 - accuracy: 0.9954 - val_loss: 0.1130 - val_accuracy: 0.9764\n",
      "Epoch 15/20\n",
      "375/375 [==============================] - 1s 3ms/step - loss: 0.0133 - accuracy: 0.9958 - val_loss: 0.1209 - val_accuracy: 0.9760\n",
      "Epoch 16/20\n",
      "375/375 [==============================] - 1s 2ms/step - loss: 0.0121 - accuracy: 0.9965 - val_loss: 0.1167 - val_accuracy: 0.9757\n",
      "Epoch 17/20\n",
      "375/375 [==============================] - 1s 2ms/step - loss: 0.0101 - accuracy: 0.9968 - val_loss: 0.1261 - val_accuracy: 0.9748\n",
      "Epoch 18/20\n",
      "375/375 [==============================] - 1s 3ms/step - loss: 0.0084 - accuracy: 0.9975 - val_loss: 0.1229 - val_accuracy: 0.9765\n",
      "Epoch 19/20\n",
      "375/375 [==============================] - 1s 3ms/step - loss: 0.0074 - accuracy: 0.9976 - val_loss: 0.1260 - val_accuracy: 0.9770\n",
      "Epoch 20/20\n",
      "375/375 [==============================] - 1s 3ms/step - loss: 0.0065 - accuracy: 0.9981 - val_loss: 0.1332 - val_accuracy: 0.9773\n"
     ]
    }
   ],
   "source": [
    "model = keras.Sequential([\n",
    "    layers.Dense(96, activation=\"relu\"),\n",
    "    layers.Dense(96, activation=\"relu\"),\n",
    "    layers.Dense(10, activation=\"softmax\"),\n",
    "])\n",
    "model.compile(optimizer=\"rmsprop\",\n",
    "              loss=\"sparse_categorical_crossentropy\",\n",
    "              metrics=[\"accuracy\"])\n",
    "history_large_model = model.fit(\n",
    "    train_images, train_labels,\n",
    "    epochs=20,\n",
    "    batch_size=128,\n",
    "    validation_split=0.2)"
   ]
  },
  {
   "cell_type": "markdown",
   "metadata": {
    "colab_type": "text"
   },
   "source": [
    "## Improving generalization"
   ]
  },
  {
   "cell_type": "markdown",
   "metadata": {
    "colab_type": "text"
   },
   "source": [
    "### Dataset curation"
   ]
  },
  {
   "cell_type": "markdown",
   "metadata": {
    "colab_type": "text"
   },
   "source": [
    "### Feature engineering"
   ]
  },
  {
   "cell_type": "markdown",
   "metadata": {
    "colab_type": "text"
   },
   "source": [
    "### Using early stopping"
   ]
  },
  {
   "cell_type": "markdown",
   "metadata": {
    "colab_type": "text"
   },
   "source": [
    "### Regularizing your model"
   ]
  },
  {
   "cell_type": "markdown",
   "metadata": {
    "colab_type": "text"
   },
   "source": [
    "#### Reducing the network's size"
   ]
  },
  {
   "cell_type": "markdown",
   "metadata": {
    "colab_type": "text"
   },
   "source": [
    "**Original model**"
   ]
  },
  {
   "cell_type": "code",
   "execution_count": 10,
   "metadata": {
    "colab_type": "code"
   },
   "outputs": [
    {
     "name": "stdout",
     "output_type": "stream",
     "text": [
      "Epoch 1/20\n",
      "30/30 [==============================] - 2s 31ms/step - loss: 0.5531 - accuracy: 0.7779 - val_loss: 0.4318 - val_accuracy: 0.8674\n",
      "Epoch 2/20\n",
      "30/30 [==============================] - 0s 16ms/step - loss: 0.3534 - accuracy: 0.8953 - val_loss: 0.3336 - val_accuracy: 0.8832\n",
      "Epoch 3/20\n",
      "30/30 [==============================] - 0s 16ms/step - loss: 0.2560 - accuracy: 0.9185 - val_loss: 0.2953 - val_accuracy: 0.8871\n",
      "Epoch 4/20\n",
      "30/30 [==============================] - 0s 15ms/step - loss: 0.2014 - accuracy: 0.9361 - val_loss: 0.2890 - val_accuracy: 0.8831\n",
      "Epoch 5/20\n",
      "30/30 [==============================] - 0s 16ms/step - loss: 0.1601 - accuracy: 0.9465 - val_loss: 0.2797 - val_accuracy: 0.8879\n",
      "Epoch 6/20\n",
      "30/30 [==============================] - 0s 14ms/step - loss: 0.1323 - accuracy: 0.9579 - val_loss: 0.2868 - val_accuracy: 0.8880\n",
      "Epoch 7/20\n",
      "30/30 [==============================] - 0s 13ms/step - loss: 0.1069 - accuracy: 0.9695 - val_loss: 0.2984 - val_accuracy: 0.8876\n",
      "Epoch 8/20\n",
      "30/30 [==============================] - 0s 13ms/step - loss: 0.0885 - accuracy: 0.9761 - val_loss: 0.3352 - val_accuracy: 0.8808\n",
      "Epoch 9/20\n",
      "30/30 [==============================] - 0s 13ms/step - loss: 0.0746 - accuracy: 0.9806 - val_loss: 0.3389 - val_accuracy: 0.8824\n",
      "Epoch 10/20\n",
      "30/30 [==============================] - 0s 15ms/step - loss: 0.0627 - accuracy: 0.9833 - val_loss: 0.3631 - val_accuracy: 0.8780\n",
      "Epoch 11/20\n",
      "30/30 [==============================] - 0s 15ms/step - loss: 0.0491 - accuracy: 0.9886 - val_loss: 0.4184 - val_accuracy: 0.8720\n",
      "Epoch 12/20\n",
      "30/30 [==============================] - 0s 15ms/step - loss: 0.0416 - accuracy: 0.9907 - val_loss: 0.4173 - val_accuracy: 0.8775\n",
      "Epoch 13/20\n",
      "30/30 [==============================] - 0s 14ms/step - loss: 0.0349 - accuracy: 0.9924 - val_loss: 0.4391 - val_accuracy: 0.8767\n",
      "Epoch 14/20\n",
      "30/30 [==============================] - 0s 15ms/step - loss: 0.0256 - accuracy: 0.9953 - val_loss: 0.4816 - val_accuracy: 0.8726\n",
      "Epoch 15/20\n",
      "30/30 [==============================] - 0s 14ms/step - loss: 0.0202 - accuracy: 0.9961 - val_loss: 0.5210 - val_accuracy: 0.8706\n",
      "Epoch 16/20\n",
      "30/30 [==============================] - 0s 13ms/step - loss: 0.0158 - accuracy: 0.9977 - val_loss: 0.6015 - val_accuracy: 0.8598\n",
      "Epoch 17/20\n",
      "30/30 [==============================] - 0s 13ms/step - loss: 0.0114 - accuracy: 0.9987 - val_loss: 0.5882 - val_accuracy: 0.8727\n",
      "Epoch 18/20\n",
      "30/30 [==============================] - 0s 16ms/step - loss: 0.0085 - accuracy: 0.9990 - val_loss: 0.6407 - val_accuracy: 0.8686\n",
      "Epoch 19/20\n",
      "30/30 [==============================] - 0s 15ms/step - loss: 0.0064 - accuracy: 0.9995 - val_loss: 0.6737 - val_accuracy: 0.8680\n",
      "Epoch 20/20\n",
      "30/30 [==============================] - 0s 14ms/step - loss: 0.0052 - accuracy: 0.9993 - val_loss: 0.7201 - val_accuracy: 0.8664\n"
     ]
    }
   ],
   "source": [
    "from tensorflow.keras.datasets import imdb\n",
    "(train_data, train_labels), _ = imdb.load_data(num_words=10000)\n",
    "\n",
    "def vectorize_sequences(sequences, dimension=10000):\n",
    "    results = np.zeros((len(sequences), dimension))\n",
    "    for i, sequence in enumerate(sequences):\n",
    "        results[i, sequence] = 1.\n",
    "    return results\n",
    "train_data = vectorize_sequences(train_data)\n",
    "\n",
    "model = keras.Sequential([\n",
    "    layers.Dense(16, activation=\"relu\"),\n",
    "    layers.Dense(16, activation=\"relu\"),\n",
    "    layers.Dense(1, activation=\"sigmoid\")\n",
    "])\n",
    "model.compile(optimizer=\"rmsprop\",\n",
    "              loss=\"binary_crossentropy\",\n",
    "              metrics=[\"accuracy\"])\n",
    "history_original = model.fit(train_data, train_labels,\n",
    "                             epochs=20, batch_size=512, validation_split=0.4)"
   ]
  },
  {
   "cell_type": "markdown",
   "metadata": {
    "colab_type": "text"
   },
   "source": [
    "**Version of the model with lower capacity**"
   ]
  },
  {
   "cell_type": "code",
   "execution_count": 11,
   "metadata": {
    "colab_type": "code"
   },
   "outputs": [
    {
     "name": "stdout",
     "output_type": "stream",
     "text": [
      "Epoch 1/20\n",
      "30/30 [==============================] - 2s 27ms/step - loss: 0.6145 - accuracy: 0.6305 - val_loss: 0.5455 - val_accuracy: 0.7407\n",
      "Epoch 2/20\n",
      "30/30 [==============================] - 1s 18ms/step - loss: 0.5096 - accuracy: 0.8045 - val_loss: 0.5014 - val_accuracy: 0.8293\n",
      "Epoch 3/20\n",
      "30/30 [==============================] - 1s 17ms/step - loss: 0.4629 - accuracy: 0.8697 - val_loss: 0.4823 - val_accuracy: 0.8309\n",
      "Epoch 4/20\n",
      "30/30 [==============================] - 0s 14ms/step - loss: 0.4304 - accuracy: 0.9017 - val_loss: 0.4869 - val_accuracy: 0.8158\n",
      "Epoch 5/20\n",
      "30/30 [==============================] - 0s 13ms/step - loss: 0.4064 - accuracy: 0.9197 - val_loss: 0.4600 - val_accuracy: 0.8620\n",
      "Epoch 6/20\n",
      "30/30 [==============================] - 0s 13ms/step - loss: 0.3861 - accuracy: 0.9349 - val_loss: 0.4559 - val_accuracy: 0.8673\n",
      "Epoch 7/20\n",
      "30/30 [==============================] - 0s 13ms/step - loss: 0.3684 - accuracy: 0.9467 - val_loss: 0.4681 - val_accuracy: 0.8544\n",
      "Epoch 8/20\n",
      "30/30 [==============================] - 0s 15ms/step - loss: 0.3538 - accuracy: 0.9539 - val_loss: 0.4495 - val_accuracy: 0.8722\n",
      "Epoch 9/20\n",
      "30/30 [==============================] - 0s 15ms/step - loss: 0.3392 - accuracy: 0.9628 - val_loss: 0.4689 - val_accuracy: 0.8631\n",
      "Epoch 10/20\n",
      "30/30 [==============================] - 0s 15ms/step - loss: 0.3269 - accuracy: 0.9679 - val_loss: 0.4643 - val_accuracy: 0.8672\n",
      "Epoch 11/20\n",
      "30/30 [==============================] - 0s 14ms/step - loss: 0.3150 - accuracy: 0.9713 - val_loss: 0.5545 - val_accuracy: 0.8287\n",
      "Epoch 12/20\n",
      "30/30 [==============================] - 0s 17ms/step - loss: 0.3046 - accuracy: 0.9737 - val_loss: 0.4581 - val_accuracy: 0.8726\n",
      "Epoch 13/20\n",
      "30/30 [==============================] - 0s 15ms/step - loss: 0.2944 - accuracy: 0.9780 - val_loss: 0.4968 - val_accuracy: 0.8606\n",
      "Epoch 14/20\n",
      "30/30 [==============================] - 0s 14ms/step - loss: 0.2855 - accuracy: 0.9799 - val_loss: 0.4980 - val_accuracy: 0.8622\n",
      "Epoch 15/20\n",
      "30/30 [==============================] - 0s 14ms/step - loss: 0.2762 - accuracy: 0.9833 - val_loss: 0.5058 - val_accuracy: 0.8616\n",
      "Epoch 16/20\n",
      "30/30 [==============================] - 0s 16ms/step - loss: 0.2682 - accuracy: 0.9844 - val_loss: 0.5465 - val_accuracy: 0.8548\n",
      "Epoch 17/20\n",
      "30/30 [==============================] - 0s 14ms/step - loss: 0.2608 - accuracy: 0.9846 - val_loss: 0.5673 - val_accuracy: 0.8539\n",
      "Epoch 18/20\n",
      "30/30 [==============================] - 0s 14ms/step - loss: 0.2533 - accuracy: 0.9853 - val_loss: 0.5732 - val_accuracy: 0.8553\n",
      "Epoch 19/20\n",
      "30/30 [==============================] - 0s 13ms/step - loss: 0.2462 - accuracy: 0.9869 - val_loss: 0.5398 - val_accuracy: 0.8627\n",
      "Epoch 20/20\n",
      "30/30 [==============================] - 0s 12ms/step - loss: 0.2395 - accuracy: 0.9870 - val_loss: 0.5976 - val_accuracy: 0.8544\n"
     ]
    }
   ],
   "source": [
    "model = keras.Sequential([\n",
    "    layers.Dense(4, activation=\"relu\"),\n",
    "    layers.Dense(4, activation=\"relu\"),\n",
    "    layers.Dense(1, activation=\"sigmoid\")\n",
    "])\n",
    "model.compile(optimizer=\"rmsprop\",\n",
    "              loss=\"binary_crossentropy\",\n",
    "              metrics=[\"accuracy\"])\n",
    "history_smaller_model = model.fit(\n",
    "    train_data, train_labels,\n",
    "    epochs=20, batch_size=512, validation_split=0.4)"
   ]
  },
  {
   "cell_type": "markdown",
   "metadata": {
    "colab_type": "text"
   },
   "source": [
    "**Version of the model with higher capacity**"
   ]
  },
  {
   "cell_type": "code",
   "execution_count": 12,
   "metadata": {
    "colab_type": "code"
   },
   "outputs": [
    {
     "name": "stdout",
     "output_type": "stream",
     "text": [
      "Epoch 1/20\n",
      "30/30 [==============================] - 2s 33ms/step - loss: 0.5463 - accuracy: 0.7666 - val_loss: 0.3772 - val_accuracy: 0.8440\n",
      "Epoch 2/20\n",
      "30/30 [==============================] - 0s 16ms/step - loss: 0.2564 - accuracy: 0.8989 - val_loss: 0.2655 - val_accuracy: 0.8944\n",
      "Epoch 3/20\n",
      "30/30 [==============================] - 0s 16ms/step - loss: 0.1545 - accuracy: 0.9405 - val_loss: 0.3117 - val_accuracy: 0.8808\n",
      "Epoch 4/20\n",
      "30/30 [==============================] - 0s 16ms/step - loss: 0.1051 - accuracy: 0.9683 - val_loss: 0.3648 - val_accuracy: 0.8860\n",
      "Epoch 5/20\n",
      "30/30 [==============================] - 0s 16ms/step - loss: 0.1137 - accuracy: 0.9754 - val_loss: 0.3545 - val_accuracy: 0.8717\n",
      "Epoch 6/20\n",
      "30/30 [==============================] - 0s 16ms/step - loss: 0.0091 - accuracy: 0.9995 - val_loss: 0.4905 - val_accuracy: 0.8871\n",
      "Epoch 7/20\n",
      "30/30 [==============================] - 0s 16ms/step - loss: 0.0012 - accuracy: 0.9999 - val_loss: 0.6393 - val_accuracy: 0.8801\n",
      "Epoch 8/20\n",
      "30/30 [==============================] - 0s 16ms/step - loss: 1.8748e-04 - accuracy: 1.0000 - val_loss: 0.7399 - val_accuracy: 0.8845\n",
      "Epoch 9/20\n",
      "30/30 [==============================] - 0s 16ms/step - loss: 3.1283e-05 - accuracy: 1.0000 - val_loss: 0.8227 - val_accuracy: 0.8843\n",
      "Epoch 10/20\n",
      "30/30 [==============================] - 0s 16ms/step - loss: 6.2810e-06 - accuracy: 1.0000 - val_loss: 0.9310 - val_accuracy: 0.8860\n",
      "Epoch 11/20\n",
      "30/30 [==============================] - 0s 16ms/step - loss: 1.5783e-06 - accuracy: 1.0000 - val_loss: 1.0364 - val_accuracy: 0.8851\n",
      "Epoch 12/20\n",
      "30/30 [==============================] - 0s 16ms/step - loss: 4.4917e-07 - accuracy: 1.0000 - val_loss: 1.1045 - val_accuracy: 0.8849\n",
      "Epoch 13/20\n",
      "30/30 [==============================] - 0s 16ms/step - loss: 1.4615e-07 - accuracy: 1.0000 - val_loss: 1.1772 - val_accuracy: 0.8845\n",
      "Epoch 14/20\n",
      "30/30 [==============================] - 0s 16ms/step - loss: 5.9516e-08 - accuracy: 1.0000 - val_loss: 1.2248 - val_accuracy: 0.8849\n",
      "Epoch 15/20\n",
      "30/30 [==============================] - 0s 16ms/step - loss: 3.1723e-08 - accuracy: 1.0000 - val_loss: 1.2660 - val_accuracy: 0.8852\n",
      "Epoch 16/20\n",
      "30/30 [==============================] - 0s 16ms/step - loss: 2.0436e-08 - accuracy: 1.0000 - val_loss: 1.2908 - val_accuracy: 0.8850\n",
      "Epoch 17/20\n",
      "30/30 [==============================] - 0s 16ms/step - loss: 1.5075e-08 - accuracy: 1.0000 - val_loss: 1.3091 - val_accuracy: 0.8849\n",
      "Epoch 18/20\n",
      "30/30 [==============================] - 0s 16ms/step - loss: 1.1963e-08 - accuracy: 1.0000 - val_loss: 1.3251 - val_accuracy: 0.8848\n",
      "Epoch 19/20\n",
      "30/30 [==============================] - 0s 16ms/step - loss: 9.8739e-09 - accuracy: 1.0000 - val_loss: 1.3364 - val_accuracy: 0.8850\n",
      "Epoch 20/20\n",
      "30/30 [==============================] - 0s 16ms/step - loss: 8.4113e-09 - accuracy: 1.0000 - val_loss: 1.3466 - val_accuracy: 0.8850\n"
     ]
    }
   ],
   "source": [
    "model = keras.Sequential([\n",
    "    layers.Dense(512, activation=\"relu\"),\n",
    "    layers.Dense(512, activation=\"relu\"),\n",
    "    layers.Dense(1, activation=\"sigmoid\")\n",
    "])\n",
    "model.compile(optimizer=\"rmsprop\",\n",
    "              loss=\"binary_crossentropy\",\n",
    "              metrics=[\"accuracy\"])\n",
    "history_larger_model = model.fit(\n",
    "    train_data, train_labels,\n",
    "    epochs=20, batch_size=512, validation_split=0.4)"
   ]
  },
  {
   "cell_type": "markdown",
   "metadata": {
    "colab_type": "text"
   },
   "source": [
    "#### Adding weight regularization"
   ]
  },
  {
   "cell_type": "markdown",
   "metadata": {
    "colab_type": "text"
   },
   "source": [
    "**Adding L2 weight regularization to the model**"
   ]
  },
  {
   "cell_type": "code",
   "execution_count": 13,
   "metadata": {
    "colab_type": "code"
   },
   "outputs": [
    {
     "name": "stdout",
     "output_type": "stream",
     "text": [
      "Epoch 1/20\n",
      "30/30 [==============================] - 1s 27ms/step - loss: 0.5841 - accuracy: 0.7906 - val_loss: 0.4656 - val_accuracy: 0.8609\n",
      "Epoch 2/20\n",
      "30/30 [==============================] - 0s 14ms/step - loss: 0.3909 - accuracy: 0.8963 - val_loss: 0.3844 - val_accuracy: 0.8833\n",
      "Epoch 3/20\n",
      "30/30 [==============================] - 0s 16ms/step - loss: 0.3225 - accuracy: 0.9155 - val_loss: 0.3602 - val_accuracy: 0.8883\n",
      "Epoch 4/20\n",
      "30/30 [==============================] - 0s 15ms/step - loss: 0.2878 - accuracy: 0.9282 - val_loss: 0.3553 - val_accuracy: 0.8884\n",
      "Epoch 5/20\n",
      "30/30 [==============================] - 0s 16ms/step - loss: 0.2681 - accuracy: 0.9342 - val_loss: 0.3564 - val_accuracy: 0.8848\n",
      "Epoch 6/20\n",
      "30/30 [==============================] - 0s 15ms/step - loss: 0.2499 - accuracy: 0.9417 - val_loss: 0.3532 - val_accuracy: 0.8881\n",
      "Epoch 7/20\n",
      "30/30 [==============================] - 0s 15ms/step - loss: 0.2456 - accuracy: 0.9426 - val_loss: 0.3597 - val_accuracy: 0.8820\n",
      "Epoch 8/20\n",
      "30/30 [==============================] - 0s 14ms/step - loss: 0.2328 - accuracy: 0.9471 - val_loss: 0.3894 - val_accuracy: 0.8747\n",
      "Epoch 9/20\n",
      "30/30 [==============================] - 0s 16ms/step - loss: 0.2270 - accuracy: 0.9488 - val_loss: 0.3694 - val_accuracy: 0.8822\n",
      "Epoch 10/20\n",
      "30/30 [==============================] - 0s 15ms/step - loss: 0.2211 - accuracy: 0.9521 - val_loss: 0.3868 - val_accuracy: 0.8779\n",
      "Epoch 11/20\n",
      "30/30 [==============================] - 0s 15ms/step - loss: 0.2145 - accuracy: 0.9547 - val_loss: 0.3881 - val_accuracy: 0.8785\n",
      "Epoch 12/20\n",
      "30/30 [==============================] - 0s 15ms/step - loss: 0.2089 - accuracy: 0.9567 - val_loss: 0.4417 - val_accuracy: 0.8591\n",
      "Epoch 13/20\n",
      "30/30 [==============================] - 0s 14ms/step - loss: 0.2185 - accuracy: 0.9503 - val_loss: 0.3909 - val_accuracy: 0.8770\n",
      "Epoch 14/20\n",
      "30/30 [==============================] - 0s 16ms/step - loss: 0.2032 - accuracy: 0.9604 - val_loss: 0.3905 - val_accuracy: 0.8774\n",
      "Epoch 15/20\n",
      "30/30 [==============================] - 0s 15ms/step - loss: 0.1984 - accuracy: 0.9617 - val_loss: 0.4097 - val_accuracy: 0.8741\n",
      "Epoch 16/20\n",
      "30/30 [==============================] - 0s 14ms/step - loss: 0.2014 - accuracy: 0.9582 - val_loss: 0.4002 - val_accuracy: 0.8772\n",
      "Epoch 17/20\n",
      "30/30 [==============================] - 0s 13ms/step - loss: 0.1969 - accuracy: 0.9617 - val_loss: 0.4459 - val_accuracy: 0.8649\n",
      "Epoch 18/20\n",
      "30/30 [==============================] - 0s 16ms/step - loss: 0.1973 - accuracy: 0.9602 - val_loss: 0.4193 - val_accuracy: 0.8725\n",
      "Epoch 19/20\n",
      "30/30 [==============================] - 0s 14ms/step - loss: 0.1877 - accuracy: 0.9641 - val_loss: 0.4103 - val_accuracy: 0.8766\n",
      "Epoch 20/20\n",
      "30/30 [==============================] - 0s 12ms/step - loss: 0.1961 - accuracy: 0.9597 - val_loss: 0.4262 - val_accuracy: 0.8709\n"
     ]
    }
   ],
   "source": [
    "from tensorflow.keras import regularizers\n",
    "model = keras.Sequential([\n",
    "    layers.Dense(16,\n",
    "                 kernel_regularizer=regularizers.l2(0.002),\n",
    "                 activation=\"relu\"),\n",
    "    layers.Dense(16,\n",
    "                 kernel_regularizer=regularizers.l2(0.002),\n",
    "                 activation=\"relu\"),\n",
    "    layers.Dense(1, activation=\"sigmoid\")\n",
    "])\n",
    "model.compile(optimizer=\"rmsprop\",\n",
    "              loss=\"binary_crossentropy\",\n",
    "              metrics=[\"accuracy\"])\n",
    "history_l2_reg = model.fit(\n",
    "    train_data, train_labels,\n",
    "    epochs=20, batch_size=512, validation_split=0.4)"
   ]
  },
  {
   "cell_type": "markdown",
   "metadata": {
    "colab_type": "text"
   },
   "source": [
    "**Different weight regularizers available in Keras**"
   ]
  },
  {
   "cell_type": "code",
   "execution_count": 14,
   "metadata": {
    "colab_type": "code"
   },
   "outputs": [
    {
     "data": {
      "text/plain": [
       "<keras.regularizers.L1L2 at 0x1a7990519d0>"
      ]
     },
     "execution_count": 14,
     "metadata": {},
     "output_type": "execute_result"
    }
   ],
   "source": [
    "from tensorflow.keras import regularizers\n",
    "regularizers.l1(0.001)\n",
    "regularizers.l1_l2(l1=0.001, l2=0.001)"
   ]
  },
  {
   "cell_type": "markdown",
   "metadata": {
    "colab_type": "text"
   },
   "source": [
    "#### Adding dropout"
   ]
  },
  {
   "cell_type": "markdown",
   "metadata": {
    "colab_type": "text"
   },
   "source": [
    "**Adding dropout to the IMDB model**"
   ]
  },
  {
   "cell_type": "code",
   "execution_count": 15,
   "metadata": {
    "colab_type": "code"
   },
   "outputs": [
    {
     "name": "stdout",
     "output_type": "stream",
     "text": [
      "Epoch 1/20\n",
      "30/30 [==============================] - 1s 31ms/step - loss: 0.6360 - accuracy: 0.6267 - val_loss: 0.5209 - val_accuracy: 0.8382\n",
      "Epoch 2/20\n",
      "30/30 [==============================] - 0s 15ms/step - loss: 0.5268 - accuracy: 0.7544 - val_loss: 0.4320 - val_accuracy: 0.8632\n",
      "Epoch 3/20\n",
      "30/30 [==============================] - 0s 13ms/step - loss: 0.4459 - accuracy: 0.8223 - val_loss: 0.3806 - val_accuracy: 0.8757\n",
      "Epoch 4/20\n",
      "30/30 [==============================] - 0s 14ms/step - loss: 0.3876 - accuracy: 0.8611 - val_loss: 0.3408 - val_accuracy: 0.8778\n",
      "Epoch 5/20\n",
      "30/30 [==============================] - 0s 14ms/step - loss: 0.3418 - accuracy: 0.8867 - val_loss: 0.3082 - val_accuracy: 0.8843\n",
      "Epoch 6/20\n",
      "30/30 [==============================] - 0s 15ms/step - loss: 0.3055 - accuracy: 0.8998 - val_loss: 0.2873 - val_accuracy: 0.8916\n",
      "Epoch 7/20\n",
      "30/30 [==============================] - 0s 15ms/step - loss: 0.2664 - accuracy: 0.9180 - val_loss: 0.2800 - val_accuracy: 0.8902\n",
      "Epoch 8/20\n",
      "30/30 [==============================] - 0s 15ms/step - loss: 0.2404 - accuracy: 0.9267 - val_loss: 0.2865 - val_accuracy: 0.8906\n",
      "Epoch 9/20\n",
      "30/30 [==============================] - 0s 14ms/step - loss: 0.2118 - accuracy: 0.9347 - val_loss: 0.2899 - val_accuracy: 0.8848\n",
      "Epoch 10/20\n",
      "30/30 [==============================] - 0s 16ms/step - loss: 0.1894 - accuracy: 0.9423 - val_loss: 0.2987 - val_accuracy: 0.8900\n",
      "Epoch 11/20\n",
      "30/30 [==============================] - 0s 15ms/step - loss: 0.1718 - accuracy: 0.9475 - val_loss: 0.3148 - val_accuracy: 0.8855\n",
      "Epoch 12/20\n",
      "30/30 [==============================] - 0s 14ms/step - loss: 0.1553 - accuracy: 0.9527 - val_loss: 0.3327 - val_accuracy: 0.8874\n",
      "Epoch 13/20\n",
      "30/30 [==============================] - 0s 13ms/step - loss: 0.1430 - accuracy: 0.9555 - val_loss: 0.3558 - val_accuracy: 0.8873\n",
      "Epoch 14/20\n",
      "30/30 [==============================] - 0s 16ms/step - loss: 0.1352 - accuracy: 0.9581 - val_loss: 0.4023 - val_accuracy: 0.8880\n",
      "Epoch 15/20\n",
      "30/30 [==============================] - 0s 14ms/step - loss: 0.1246 - accuracy: 0.9608 - val_loss: 0.4105 - val_accuracy: 0.8867\n",
      "Epoch 16/20\n",
      "30/30 [==============================] - 0s 13ms/step - loss: 0.1106 - accuracy: 0.9662 - val_loss: 0.4390 - val_accuracy: 0.8866\n",
      "Epoch 17/20\n",
      "30/30 [==============================] - 0s 13ms/step - loss: 0.1080 - accuracy: 0.9669 - val_loss: 0.4548 - val_accuracy: 0.8855\n",
      "Epoch 18/20\n",
      "30/30 [==============================] - 0s 13ms/step - loss: 0.0998 - accuracy: 0.9706 - val_loss: 0.5185 - val_accuracy: 0.8858\n",
      "Epoch 19/20\n",
      "30/30 [==============================] - 0s 15ms/step - loss: 0.0978 - accuracy: 0.9704 - val_loss: 0.4976 - val_accuracy: 0.8855\n",
      "Epoch 20/20\n",
      "30/30 [==============================] - 0s 14ms/step - loss: 0.0967 - accuracy: 0.9717 - val_loss: 0.5311 - val_accuracy: 0.8848\n"
     ]
    }
   ],
   "source": [
    "model = keras.Sequential([\n",
    "    layers.Dense(16, activation=\"relu\"),\n",
    "    layers.Dropout(0.5),\n",
    "    layers.Dense(16, activation=\"relu\"),\n",
    "    layers.Dropout(0.5),\n",
    "    layers.Dense(1, activation=\"sigmoid\")\n",
    "])\n",
    "model.compile(optimizer=\"rmsprop\",\n",
    "              loss=\"binary_crossentropy\",\n",
    "              metrics=[\"accuracy\"])\n",
    "history_dropout = model.fit(\n",
    "    train_data, train_labels,\n",
    "    epochs=20, batch_size=512, validation_split=0.4)"
   ]
  },
  {
   "cell_type": "markdown",
   "metadata": {
    "colab_type": "text"
   },
   "source": [
    "## Summary"
   ]
  }
 ],
 "metadata": {
  "colab": {
   "collapsed_sections": [],
   "name": "chapter05_fundamentals-of-ml.i",
   "private_outputs": false,
   "provenance": [],
   "toc_visible": true
  },
  "kernelspec": {
   "display_name": "Python 3.9.12 ('base')",
   "language": "python",
   "name": "python3"
  },
  "language_info": {
   "codemirror_mode": {
    "name": "ipython",
    "version": 3
   },
   "file_extension": ".py",
   "mimetype": "text/x-python",
   "name": "python",
   "nbconvert_exporter": "python",
   "pygments_lexer": "ipython3",
   "version": "3.9.12"
  },
  "vscode": {
   "interpreter": {
    "hash": "71a77cf6d3857461ac3c38ebff3fad34580257a95b1e5ea33ee9699e2f5f6585"
   }
  }
 },
 "nbformat": 4,
 "nbformat_minor": 0
}
