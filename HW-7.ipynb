{
 "cells": [
  {
   "cell_type": "markdown",
   "metadata": {
    "colab_type": "text"
   },
   "source": [
    "This is a companion notebook for the book [Deep Learning with Python, Second Edition](https://www.manning.com/books/deep-learning-with-python-second-edition?a_aid=keras&a_bid=76564dff). For readability, it only contains runnable code blocks and section titles, and omits everything else in the book: text paragraphs, figures, and pseudocode.\n",
    "\n",
    "**If you want to be able to follow what's going on, I recommend reading the notebook side by side with your copy of the book.**\n",
    "\n",
    "This notebook was generated for TensorFlow 2.6."
   ]
  },
  {
   "cell_type": "markdown",
   "metadata": {
    "colab_type": "text"
   },
   "source": [
    "# Working with Keras: A deep dive"
   ]
  },
  {
   "cell_type": "markdown",
   "metadata": {
    "colab_type": "text"
   },
   "source": [
    "## A spectrum of workflows"
   ]
  },
  {
   "cell_type": "markdown",
   "metadata": {
    "colab_type": "text"
   },
   "source": [
    "## Different ways to build Keras models"
   ]
  },
  {
   "cell_type": "markdown",
   "metadata": {
    "colab_type": "text"
   },
   "source": [
    "### The Sequential model"
   ]
  },
  {
   "cell_type": "markdown",
   "metadata": {
    "colab_type": "text"
   },
   "source": [
    "**The `Sequential` class**"
   ]
  },
  {
   "cell_type": "code",
   "execution_count": 1,
   "metadata": {
    "colab_type": "code"
   },
   "outputs": [],
   "source": [
    "from tensorflow import keras\n",
    "from tensorflow.keras import layers\n",
    "\n",
    "model = keras.Sequential([\n",
    "    layers.Dense(64, activation=\"relu\"),\n",
    "    layers.Dense(10, activation=\"softmax\")\n",
    "])"
   ]
  },
  {
   "cell_type": "markdown",
   "metadata": {
    "colab_type": "text"
   },
   "source": [
    "**Incrementally building a Sequential model**"
   ]
  },
  {
   "cell_type": "code",
   "execution_count": 2,
   "metadata": {
    "colab_type": "code"
   },
   "outputs": [],
   "source": [
    "model = keras.Sequential()\n",
    "model.add(layers.Dense(64, activation=\"relu\"))\n",
    "model.add(layers.Dense(10, activation=\"softmax\"))"
   ]
  },
  {
   "cell_type": "markdown",
   "metadata": {
    "colab_type": "text"
   },
   "source": [
    "**Calling a model for the first time to build it**"
   ]
  },
  {
   "cell_type": "code",
   "execution_count": 3,
   "metadata": {
    "colab_type": "code"
   },
   "outputs": [
    {
     "data": {
      "text/plain": [
       "[<tf.Variable 'dense_2/kernel:0' shape=(3, 64) dtype=float32, numpy=\n",
       " array([[-0.28919232,  0.17097598, -0.17557482, -0.20679888,  0.26188338,\n",
       "         -0.15955497,  0.06481972, -0.1490587 ,  0.03813255,  0.07023692,\n",
       "          0.25417984, -0.00125101,  0.02770662,  0.10805005, -0.07019366,\n",
       "          0.18043023,  0.15101597,  0.04971445, -0.25167885, -0.26695725,\n",
       "         -0.12367028,  0.14256743, -0.19751936,  0.26822412,  0.21064246,\n",
       "         -0.2102145 , -0.28797057, -0.02800214,  0.25200713, -0.27588502,\n",
       "          0.02479893,  0.07366264, -0.07956252,  0.08938363, -0.11816269,\n",
       "         -0.2056382 ,  0.2631048 ,  0.02655208,  0.02697039,  0.06385174,\n",
       "          0.19116738,  0.2594238 ,  0.26616746,  0.2667178 , -0.03202814,\n",
       "          0.29699796, -0.11350121, -0.1632883 , -0.24392574,  0.04615059,\n",
       "         -0.09222919, -0.00283056,  0.14552912, -0.0650035 , -0.22214186,\n",
       "         -0.02110085, -0.26297322, -0.0878889 , -0.16931793, -0.1931925 ,\n",
       "         -0.17315601,  0.23972672, -0.1143643 , -0.03948531],\n",
       "        [-0.19530809,  0.03420267, -0.24562879,  0.03926697,  0.10404816,\n",
       "         -0.18766636,  0.16210306,  0.0147799 ,  0.16007924,  0.18897709,\n",
       "         -0.28271696,  0.04844961, -0.09997109, -0.13068993,  0.0536392 ,\n",
       "          0.09116197, -0.08422421, -0.06536509, -0.10804655, -0.1266175 ,\n",
       "         -0.0024831 ,  0.04962599,  0.03707355,  0.02345809,  0.12635395,\n",
       "         -0.28095648,  0.22149223, -0.02319926,  0.14146277, -0.14817663,\n",
       "         -0.21641073,  0.01030385,  0.14851475,  0.23966348, -0.19937119,\n",
       "         -0.04887933, -0.14667311,  0.26859373,  0.06678969, -0.13209298,\n",
       "          0.25137728,  0.15229529,  0.28672582,  0.03104547,  0.03312698,\n",
       "         -0.0836747 , -0.27967373,  0.18836755, -0.2898853 ,  0.01392874,\n",
       "          0.11550948,  0.02828854,  0.20639485,  0.04442519,  0.03049526,\n",
       "          0.2556435 ,  0.08627218, -0.1461288 ,  0.19566119, -0.2293757 ,\n",
       "         -0.04266974,  0.12906808,  0.21854103,  0.15842968],\n",
       "        [ 0.01295227,  0.04434657,  0.08261496,  0.01846337,  0.14397141,\n",
       "         -0.03297827, -0.00048044, -0.28432357,  0.13555118,  0.1694386 ,\n",
       "          0.24788183,  0.10171789,  0.19114676,  0.2918889 ,  0.22579443,\n",
       "         -0.09608801,  0.1672841 ,  0.17066097, -0.14837562,  0.09007648,\n",
       "         -0.14134026,  0.0467335 ,  0.27342266,  0.00051165, -0.10766512,\n",
       "          0.1832174 ,  0.20675385, -0.14526315,  0.09402508,  0.16916332,\n",
       "          0.10845017, -0.16755615,  0.14240775, -0.291813  , -0.01973948,\n",
       "         -0.04222435, -0.03504592,  0.12210035,  0.28453314, -0.15428467,\n",
       "          0.02191266, -0.12955259, -0.13899763,  0.23562098,  0.14724767,\n",
       "          0.1420596 ,  0.03090265, -0.13111617,  0.26905394,  0.1129165 ,\n",
       "         -0.16321744,  0.18107292,  0.081072  ,  0.22167003,  0.21366495,\n",
       "          0.22444087, -0.0318881 ,  0.12011755,  0.2696225 ,  0.03693706,\n",
       "          0.21727133, -0.03437704, -0.04730228, -0.11002323]],\n",
       "       dtype=float32)>,\n",
       " <tf.Variable 'dense_2/bias:0' shape=(64,) dtype=float32, numpy=\n",
       " array([0., 0., 0., 0., 0., 0., 0., 0., 0., 0., 0., 0., 0., 0., 0., 0., 0.,\n",
       "        0., 0., 0., 0., 0., 0., 0., 0., 0., 0., 0., 0., 0., 0., 0., 0., 0.,\n",
       "        0., 0., 0., 0., 0., 0., 0., 0., 0., 0., 0., 0., 0., 0., 0., 0., 0.,\n",
       "        0., 0., 0., 0., 0., 0., 0., 0., 0., 0., 0., 0., 0.], dtype=float32)>,\n",
       " <tf.Variable 'dense_3/kernel:0' shape=(64, 10) dtype=float32, numpy=\n",
       " array([[ 2.15166271e-01, -2.20934510e-01,  1.66710109e-01,\n",
       "          2.07491875e-01,  2.16312021e-01, -7.33751059e-03,\n",
       "          8.64192843e-03,  2.26536393e-02, -7.43959695e-02,\n",
       "         -1.67083278e-01],\n",
       "        [-7.32808858e-02,  2.28761166e-01, -2.54199952e-01,\n",
       "          1.95599347e-01,  2.90609896e-02,  6.69109821e-02,\n",
       "         -1.99980080e-01, -3.51573080e-02, -1.26574546e-01,\n",
       "          2.67343134e-01],\n",
       "        [-2.29798257e-02, -5.25345355e-02,  2.47092992e-01,\n",
       "          2.81624347e-01, -6.93774670e-02,  2.59006709e-01,\n",
       "          2.48586684e-01, -2.53174365e-01, -6.68726265e-02,\n",
       "          1.83741361e-01],\n",
       "        [ 2.03609973e-01, -1.87898397e-01, -8.84549022e-02,\n",
       "         -2.45383337e-01,  6.77660406e-02, -6.39633089e-02,\n",
       "          1.89086795e-02, -1.99315101e-01,  5.34057617e-02,\n",
       "          1.99693590e-01],\n",
       "        [ 1.35480702e-01,  2.29913324e-01,  1.31148309e-01,\n",
       "         -2.15990767e-01,  2.06709653e-01,  6.96742833e-02,\n",
       "         -3.82359326e-02,  2.58550912e-01, -1.96903348e-02,\n",
       "          4.39336598e-02],\n",
       "        [ 2.41201818e-02,  9.88755524e-02, -1.54979229e-02,\n",
       "          1.40172720e-01, -8.48384500e-02, -7.01025277e-02,\n",
       "          2.63326377e-01, -5.25596440e-02,  9.06215906e-02,\n",
       "          1.80245817e-01],\n",
       "        [-2.72634476e-01, -3.24553251e-02,  1.16753578e-01,\n",
       "          2.40715772e-01, -1.52870640e-01,  2.65733212e-01,\n",
       "         -2.41461113e-01, -2.34776616e-01,  4.81522977e-02,\n",
       "          2.26694971e-01],\n",
       "        [ 1.53237581e-01, -3.92981321e-02, -2.14605689e-01,\n",
       "         -6.37531281e-03,  7.14537799e-02,  2.79960245e-01,\n",
       "         -2.48120964e-01, -1.03458166e-02, -2.31528342e-01,\n",
       "         -2.20013052e-01],\n",
       "        [-9.82344002e-02,  1.92106307e-01, -1.14395529e-01,\n",
       "          2.41810590e-01,  1.52137786e-01,  1.53510958e-01,\n",
       "          1.70753568e-01, -1.38703004e-01,  7.09116161e-02,\n",
       "         -2.38158107e-01],\n",
       "        [ 2.02668756e-01, -2.77598739e-01,  9.13732648e-02,\n",
       "          2.17307538e-01,  1.15831792e-02,  1.77518725e-01,\n",
       "         -6.86086863e-02, -1.09364063e-01,  1.95741415e-01,\n",
       "         -1.43524006e-01],\n",
       "        [-1.54862970e-01,  2.60237753e-02, -1.45379409e-01,\n",
       "         -1.84882849e-01, -2.66614437e-01, -1.41757131e-02,\n",
       "         -4.65266258e-02, -1.18192732e-02, -2.75911778e-01,\n",
       "          2.45997041e-01],\n",
       "        [ 1.04543000e-01,  1.55358702e-01,  6.46965206e-02,\n",
       "          6.58306777e-02, -2.43589640e-01,  2.66179591e-01,\n",
       "         -1.45438895e-01, -1.79717153e-01,  1.08445853e-01,\n",
       "         -5.09970486e-02],\n",
       "        [ 5.80523610e-02, -1.05739325e-01,  1.96733773e-01,\n",
       "         -1.41818970e-01, -7.93750882e-02,  9.62434113e-02,\n",
       "          9.75686014e-02,  6.99998140e-02, -2.44126782e-01,\n",
       "         -2.72977054e-02],\n",
       "        [ 2.02169359e-01,  3.80077660e-02,  1.54342532e-01,\n",
       "         -7.50912875e-02, -2.68512130e-01, -2.72108972e-01,\n",
       "         -1.69530511e-02, -1.89985722e-01, -2.41917267e-01,\n",
       "         -1.39761671e-01],\n",
       "        [-8.63724947e-03,  1.11027271e-01, -1.58454925e-01,\n",
       "         -2.66084969e-01, -2.07631797e-01,  2.25418001e-01,\n",
       "         -2.35923678e-01, -1.59461170e-01, -2.21179262e-01,\n",
       "          2.48803347e-01],\n",
       "        [ 7.73170888e-02,  5.54507077e-02, -3.18336487e-02,\n",
       "         -2.13528365e-01,  2.09430784e-01,  6.07090592e-02,\n",
       "          7.48102963e-02, -4.53794301e-02,  6.54811859e-02,\n",
       "         -2.45496377e-01],\n",
       "        [-2.37376779e-01,  1.59871966e-01,  2.82634169e-01,\n",
       "         -1.64960325e-01,  1.99429154e-01,  1.26449764e-01,\n",
       "         -2.50985742e-01,  8.72882307e-02,  4.26592529e-02,\n",
       "         -1.75146326e-01],\n",
       "        [-2.73517519e-01, -2.45383471e-01, -2.39858732e-01,\n",
       "          1.98204815e-02,  2.13575691e-01,  1.48432314e-01,\n",
       "         -2.65437633e-01,  1.91487223e-01, -1.03020713e-01,\n",
       "          6.98943734e-02],\n",
       "        [ 2.64160424e-01, -3.82291526e-02, -2.18525469e-01,\n",
       "         -1.76748842e-01, -8.97117406e-02, -3.56698632e-02,\n",
       "         -2.05549031e-01, -1.29499421e-01, -5.40287048e-02,\n",
       "         -2.72473395e-02],\n",
       "        [ 8.19537044e-02, -7.54519850e-02,  2.33280092e-01,\n",
       "          3.61862183e-02,  2.00237125e-01, -1.85213536e-01,\n",
       "          1.74108446e-02,  2.67690718e-02, -9.60903168e-02,\n",
       "          2.76424617e-01],\n",
       "        [ 2.10612804e-01, -6.11303002e-02, -6.90725148e-02,\n",
       "         -1.42585367e-01,  3.31720114e-02, -2.73383319e-01,\n",
       "          2.45358080e-01,  8.29402208e-02,  2.78849036e-01,\n",
       "          1.55466437e-01],\n",
       "        [-2.78290868e-01,  1.46011949e-01,  1.40930116e-02,\n",
       "          1.13371968e-01,  6.84223473e-02, -2.20807284e-01,\n",
       "          2.21012264e-01,  1.68763340e-01, -9.34702158e-02,\n",
       "         -3.11394334e-02],\n",
       "        [ 2.65114814e-01, -5.06649315e-02,  2.82281071e-01,\n",
       "          1.01033330e-01, -3.35311890e-03,  2.26484984e-01,\n",
       "          4.38613594e-02,  9.43820179e-02,  1.16562843e-02,\n",
       "          1.23438001e-01],\n",
       "        [-5.81986457e-02, -1.34736583e-01,  1.28824592e-01,\n",
       "          2.49029666e-01,  8.23345184e-02,  4.53970730e-02,\n",
       "         -2.10787073e-01, -2.08862826e-01,  1.76035762e-02,\n",
       "          2.48915762e-01],\n",
       "        [ 1.08639479e-01,  2.28201836e-01,  4.00364995e-02,\n",
       "         -6.24718666e-02,  6.25203252e-02,  1.10174417e-02,\n",
       "         -6.67715520e-02, -2.81035841e-01, -1.96893632e-01,\n",
       "          5.97970188e-02],\n",
       "        [-2.02227473e-01, -1.81397766e-01,  1.53225005e-01,\n",
       "         -2.63750255e-02, -1.55538470e-01,  1.90215588e-01,\n",
       "          2.14436650e-01,  2.69938737e-01, -2.11843222e-01,\n",
       "         -2.07895070e-01],\n",
       "        [-6.73473179e-02, -1.48440063e-01, -5.27039170e-02,\n",
       "         -2.04184383e-01, -2.84630626e-01, -2.05963492e-01,\n",
       "          9.35653150e-02,  2.60049105e-03,  1.03202254e-01,\n",
       "          1.72222018e-01],\n",
       "        [ 1.16559952e-01, -2.07534373e-01,  4.13670540e-02,\n",
       "          1.66378170e-01,  2.58537680e-01, -1.47139579e-01,\n",
       "          6.25133514e-02,  1.50729954e-01,  2.23433465e-01,\n",
       "         -7.41797984e-02],\n",
       "        [ 1.67059869e-01,  1.46760225e-01, -9.99464244e-02,\n",
       "         -3.89042348e-02,  2.38470465e-01, -8.07528198e-02,\n",
       "          8.39121640e-02,  2.45622426e-01, -4.65011597e-03,\n",
       "          1.71507061e-01],\n",
       "        [-6.43816441e-02, -2.04069048e-01, -1.18658558e-01,\n",
       "         -2.33704746e-02, -1.92274943e-01,  5.47166169e-02,\n",
       "          3.85608673e-02,  2.55958229e-01,  1.95315093e-01,\n",
       "          1.88805819e-01],\n",
       "        [ 1.06719434e-02, -2.35604122e-01, -2.27388531e-01,\n",
       "          2.82161146e-01,  1.54985189e-01,  2.83427209e-01,\n",
       "          2.79963017e-02, -1.70158118e-01, -2.84517318e-01,\n",
       "          1.03020370e-01],\n",
       "        [ 2.11896390e-01, -2.35454559e-01,  2.74641007e-01,\n",
       "         -5.79771996e-02,  1.43615931e-01, -2.60211736e-01,\n",
       "         -2.70668417e-01, -7.59243965e-03,  2.56613195e-02,\n",
       "         -1.80254281e-02],\n",
       "        [ 1.44283473e-01, -1.70867622e-01,  1.27629548e-01,\n",
       "          8.57947469e-02, -1.65376216e-01, -7.28224963e-02,\n",
       "          1.68766260e-01,  1.40881628e-01, -7.42926300e-02,\n",
       "          7.91496336e-02],\n",
       "        [ 1.18679941e-01, -2.15589479e-01, -2.38398582e-01,\n",
       "         -7.48388767e-02,  1.30107850e-01, -2.01501071e-01,\n",
       "          2.54966825e-01, -2.83397764e-01, -5.44393659e-02,\n",
       "          2.39132375e-01],\n",
       "        [ 2.48889476e-01,  1.91738904e-01,  2.38257647e-03,\n",
       "          2.25372165e-01,  2.78201848e-01,  1.57727361e-01,\n",
       "         -4.48625237e-02, -4.01766151e-02, -1.10730872e-01,\n",
       "         -2.01581314e-01],\n",
       "        [-2.47039080e-01,  1.81300402e-01, -6.84575737e-02,\n",
       "          1.97094053e-01,  2.37725526e-01,  2.53798395e-01,\n",
       "         -2.15926006e-01, -7.54716694e-02,  2.58052915e-01,\n",
       "         -1.06695548e-01],\n",
       "        [-6.87094331e-02, -2.49736518e-01,  2.17213035e-02,\n",
       "          1.61099732e-01, -9.93356258e-02, -8.60686749e-02,\n",
       "         -3.96941304e-02,  1.16638452e-01, -3.22889984e-02,\n",
       "         -9.08434540e-02],\n",
       "        [ 1.67824566e-01,  1.01522058e-01, -2.22120404e-01,\n",
       "         -2.72945225e-01,  4.78270650e-03, -2.53844559e-01,\n",
       "         -1.36537209e-01, -2.81970382e-01,  1.01181269e-01,\n",
       "         -6.86047524e-02],\n",
       "        [-2.47455448e-01, -1.31091073e-01, -1.27093017e-01,\n",
       "         -2.24535078e-01,  7.58698285e-02, -2.60258585e-01,\n",
       "         -1.05014130e-01, -1.05357319e-01, -4.22344655e-02,\n",
       "          1.10461414e-01],\n",
       "        [-2.38241851e-02,  2.45745093e-01,  6.99912608e-02,\n",
       "          6.51603937e-02, -2.04151452e-01,  2.45894194e-02,\n",
       "         -1.04597434e-01, -2.15237439e-02, -1.10091627e-01,\n",
       "         -1.27909526e-01],\n",
       "        [-1.53636932e-02,  1.51357532e-01, -1.72941983e-02,\n",
       "          3.09656262e-02, -4.39894050e-02, -1.96208358e-02,\n",
       "         -2.08849460e-01,  1.94809854e-01, -2.53563970e-01,\n",
       "          4.92915511e-03],\n",
       "        [ 1.37709677e-02, -2.54678845e-01, -2.12633312e-02,\n",
       "          2.61522830e-02,  2.06312567e-01, -9.14306939e-02,\n",
       "          1.00270599e-01, -2.42608845e-01,  1.07048512e-01,\n",
       "          2.79661149e-01],\n",
       "        [ 1.89965636e-01, -1.68164343e-01,  4.40866053e-02,\n",
       "          1.04555488e-01, -6.33350015e-02,  1.69862866e-01,\n",
       "         -1.68020755e-01, -2.19956636e-01,  2.99284160e-02,\n",
       "          1.26706243e-01],\n",
       "        [-4.96077687e-02,  1.80010587e-01, -6.62055612e-02,\n",
       "          1.72902048e-02, -3.64034027e-02,  3.60085070e-02,\n",
       "          1.98450595e-01, -2.54594743e-01,  5.56762218e-02,\n",
       "          7.53595829e-02],\n",
       "        [ 1.12962663e-01,  7.54015446e-02,  2.38139927e-02,\n",
       "         -1.09115317e-01,  2.48759985e-03, -9.61903185e-02,\n",
       "          2.23439664e-01,  1.86425447e-02, -1.47040457e-01,\n",
       "          3.50737274e-02],\n",
       "        [ 1.35204196e-01,  2.48186499e-01,  2.33809322e-01,\n",
       "          2.36803740e-01, -6.09831959e-02,  1.30412787e-01,\n",
       "          9.42167342e-02,  2.78347284e-01,  1.29927397e-01,\n",
       "         -2.41871104e-01],\n",
       "        [-1.90927684e-02,  1.59039438e-01,  2.29782075e-01,\n",
       "         -1.23870388e-01,  3.84151936e-05, -2.41555959e-01,\n",
       "         -2.10460722e-02,  8.16698074e-02,  2.75025517e-01,\n",
       "          1.70404971e-01],\n",
       "        [ 2.69900173e-01,  2.64167517e-01,  6.77726269e-02,\n",
       "         -1.71063691e-01, -1.74625620e-01, -2.79700845e-01,\n",
       "          2.73378491e-02,  1.83180332e-01, -2.16872096e-01,\n",
       "         -8.44087154e-02],\n",
       "        [ 5.10147512e-02,  4.38249707e-02,  2.35221893e-01,\n",
       "          8.94666612e-02, -2.46962905e-02,  7.09102750e-02,\n",
       "         -1.00796536e-01, -2.31902882e-01,  2.05288947e-01,\n",
       "          1.78848267e-01],\n",
       "        [ 1.02831721e-01,  9.91230011e-02,  1.40586793e-02,\n",
       "          2.30211765e-01,  7.96090961e-02,  2.72642225e-01,\n",
       "          6.83327913e-02,  1.24394625e-01,  2.29943126e-01,\n",
       "         -1.41489029e-01],\n",
       "        [ 3.30972075e-02,  1.27524137e-02,  1.79222047e-01,\n",
       "         -2.32100099e-01,  1.85099423e-01,  2.23705798e-01,\n",
       "         -1.79805160e-01,  1.47680521e-01,  2.09589452e-01,\n",
       "          1.46837264e-01],\n",
       "        [-1.33204058e-01, -9.63861197e-02, -1.93644062e-01,\n",
       "          7.32292831e-02,  1.65679544e-01, -1.49507686e-01,\n",
       "         -2.44565219e-01, -9.73472148e-02,  6.61866963e-02,\n",
       "          6.85462356e-03],\n",
       "        [-1.57292664e-01,  9.61926877e-02, -1.45973235e-01,\n",
       "         -1.64971530e-01,  1.50052965e-01, -2.23487616e-01,\n",
       "          5.36568165e-02,  1.65151089e-01,  2.17015475e-01,\n",
       "         -7.94139504e-03],\n",
       "        [-1.09605491e-02, -1.88976079e-01,  2.03517109e-01,\n",
       "          1.57845616e-01,  2.00425088e-01, -2.16704756e-01,\n",
       "          8.42612982e-03,  2.02029049e-02, -2.82235980e-01,\n",
       "         -1.02265313e-01],\n",
       "        [ 1.85007691e-01, -2.51860768e-01,  2.65000165e-02,\n",
       "          1.20686263e-01, -5.52785397e-02,  6.07984662e-02,\n",
       "         -2.64884353e-01, -6.15894794e-04,  7.19219446e-02,\n",
       "         -1.30042806e-01],\n",
       "        [-2.83598155e-01, -1.12706304e-01,  1.17740750e-01,\n",
       "         -1.83833823e-01,  2.45918304e-01, -2.62391567e-03,\n",
       "         -8.79644156e-02,  2.08554268e-01, -5.54253757e-02,\n",
       "          1.22489333e-01],\n",
       "        [ 2.67831117e-01, -2.10670710e-01,  1.36244684e-01,\n",
       "         -1.00669369e-01,  1.91463590e-01,  1.79710388e-02,\n",
       "         -8.89592618e-02, -1.46261290e-01,  1.32354349e-01,\n",
       "         -1.45333454e-01],\n",
       "        [ 1.27093911e-01,  1.17754400e-01, -2.17474818e-01,\n",
       "          1.98657334e-01,  6.17339015e-02,  9.17105377e-02,\n",
       "         -2.15494424e-01, -2.61199862e-01,  1.37386560e-01,\n",
       "         -3.26080024e-02],\n",
       "        [-6.60697073e-02,  8.36324692e-02, -3.73666883e-02,\n",
       "         -6.55147135e-02, -1.81741342e-01, -2.56643623e-01,\n",
       "          2.67795235e-01, -6.06235117e-02, -3.40938270e-02,\n",
       "          3.11436951e-02],\n",
       "        [ 9.43548083e-02,  2.47623354e-01,  2.50751764e-01,\n",
       "          1.76737100e-01,  1.03007555e-01, -1.99947968e-01,\n",
       "         -2.40295321e-01, -2.24766135e-03, -2.53802806e-01,\n",
       "          1.08040094e-01],\n",
       "        [-7.45037794e-02,  2.68034309e-01, -9.21324641e-02,\n",
       "         -1.98146328e-01,  1.62712783e-01, -6.55905455e-02,\n",
       "         -2.74317861e-02,  6.23176694e-02, -2.27805778e-01,\n",
       "          2.12946832e-02],\n",
       "        [ 3.60403955e-02,  2.81056613e-01,  1.46639377e-01,\n",
       "         -7.38827288e-02, -2.04732046e-01,  9.38825011e-02,\n",
       "          2.02098966e-01, -1.23704478e-01, -8.19871128e-02,\n",
       "         -2.77364731e-01],\n",
       "        [-2.01468825e-01, -1.47167742e-02,  9.27340090e-02,\n",
       "         -1.06987670e-01,  1.55830950e-01, -3.46167684e-02,\n",
       "         -6.93288594e-02, -2.28806049e-01, -2.59470791e-01,\n",
       "          2.55665272e-01],\n",
       "        [-2.07312703e-01,  2.05459058e-01,  2.39632159e-01,\n",
       "          1.85500622e-01,  1.14640325e-01,  2.68614560e-01,\n",
       "         -1.57691434e-01,  1.60965025e-02,  1.98941320e-01,\n",
       "          3.31503153e-03]], dtype=float32)>,\n",
       " <tf.Variable 'dense_3/bias:0' shape=(10,) dtype=float32, numpy=array([0., 0., 0., 0., 0., 0., 0., 0., 0., 0.], dtype=float32)>]"
      ]
     },
     "execution_count": 3,
     "metadata": {},
     "output_type": "execute_result"
    }
   ],
   "source": [
    "model.build(input_shape=(None, 3))\n",
    "model.weights"
   ]
  },
  {
   "cell_type": "markdown",
   "metadata": {
    "colab_type": "text"
   },
   "source": [
    "**The summary method**"
   ]
  },
  {
   "cell_type": "code",
   "execution_count": 4,
   "metadata": {
    "colab_type": "code"
   },
   "outputs": [
    {
     "name": "stdout",
     "output_type": "stream",
     "text": [
      "Model: \"sequential_1\"\n",
      "_________________________________________________________________\n",
      " Layer (type)                Output Shape              Param #   \n",
      "=================================================================\n",
      " dense_2 (Dense)             (None, 64)                256       \n",
      "                                                                 \n",
      " dense_3 (Dense)             (None, 10)                650       \n",
      "                                                                 \n",
      "=================================================================\n",
      "Total params: 906\n",
      "Trainable params: 906\n",
      "Non-trainable params: 0\n",
      "_________________________________________________________________\n"
     ]
    }
   ],
   "source": [
    "model.summary()"
   ]
  },
  {
   "cell_type": "markdown",
   "metadata": {
    "colab_type": "text"
   },
   "source": [
    "**Naming models and layers with the `name` argument**"
   ]
  },
  {
   "cell_type": "code",
   "execution_count": 5,
   "metadata": {
    "colab_type": "code"
   },
   "outputs": [
    {
     "name": "stdout",
     "output_type": "stream",
     "text": [
      "Model: \"my_example_model\"\n",
      "_________________________________________________________________\n",
      " Layer (type)                Output Shape              Param #   \n",
      "=================================================================\n",
      " my_first_layer (Dense)      (None, 64)                256       \n",
      "                                                                 \n",
      " my_last_layer (Dense)       (None, 10)                650       \n",
      "                                                                 \n",
      "=================================================================\n",
      "Total params: 906\n",
      "Trainable params: 906\n",
      "Non-trainable params: 0\n",
      "_________________________________________________________________\n"
     ]
    }
   ],
   "source": [
    "model = keras.Sequential(name=\"my_example_model\")\n",
    "model.add(layers.Dense(64, activation=\"relu\", name=\"my_first_layer\"))\n",
    "model.add(layers.Dense(10, activation=\"softmax\", name=\"my_last_layer\"))\n",
    "model.build((None, 3))\n",
    "model.summary()"
   ]
  },
  {
   "cell_type": "markdown",
   "metadata": {
    "colab_type": "text"
   },
   "source": [
    "**Specifying the input shape of your model in advance**"
   ]
  },
  {
   "cell_type": "code",
   "execution_count": 6,
   "metadata": {
    "colab_type": "code"
   },
   "outputs": [],
   "source": [
    "model = keras.Sequential()\n",
    "model.add(keras.Input(shape=(3,)))\n",
    "model.add(layers.Dense(64, activation=\"relu\"))"
   ]
  },
  {
   "cell_type": "code",
   "execution_count": 7,
   "metadata": {
    "colab_type": "code"
   },
   "outputs": [
    {
     "name": "stdout",
     "output_type": "stream",
     "text": [
      "Model: \"sequential_2\"\n",
      "_________________________________________________________________\n",
      " Layer (type)                Output Shape              Param #   \n",
      "=================================================================\n",
      " dense_4 (Dense)             (None, 64)                256       \n",
      "                                                                 \n",
      "=================================================================\n",
      "Total params: 256\n",
      "Trainable params: 256\n",
      "Non-trainable params: 0\n",
      "_________________________________________________________________\n"
     ]
    }
   ],
   "source": [
    "model.summary()"
   ]
  },
  {
   "cell_type": "code",
   "execution_count": 8,
   "metadata": {
    "colab_type": "code"
   },
   "outputs": [
    {
     "name": "stdout",
     "output_type": "stream",
     "text": [
      "Model: \"sequential_2\"\n",
      "_________________________________________________________________\n",
      " Layer (type)                Output Shape              Param #   \n",
      "=================================================================\n",
      " dense_4 (Dense)             (None, 64)                256       \n",
      "                                                                 \n",
      " dense_5 (Dense)             (None, 10)                650       \n",
      "                                                                 \n",
      "=================================================================\n",
      "Total params: 906\n",
      "Trainable params: 906\n",
      "Non-trainable params: 0\n",
      "_________________________________________________________________\n"
     ]
    }
   ],
   "source": [
    "model.add(layers.Dense(10, activation=\"softmax\"))\n",
    "model.summary()"
   ]
  },
  {
   "cell_type": "markdown",
   "metadata": {
    "colab_type": "text"
   },
   "source": [
    "### The Functional API"
   ]
  },
  {
   "cell_type": "markdown",
   "metadata": {
    "colab_type": "text"
   },
   "source": [
    "#### A simple example"
   ]
  },
  {
   "cell_type": "markdown",
   "metadata": {
    "colab_type": "text"
   },
   "source": [
    "**A simple Functional model with two `Dense` layers**"
   ]
  },
  {
   "cell_type": "code",
   "execution_count": 9,
   "metadata": {
    "colab_type": "code"
   },
   "outputs": [],
   "source": [
    "inputs = keras.Input(shape=(3,), name=\"my_input\")\n",
    "features = layers.Dense(64, activation=\"relu\")(inputs)\n",
    "outputs = layers.Dense(10, activation=\"softmax\")(features)\n",
    "model = keras.Model(inputs=inputs, outputs=outputs)"
   ]
  },
  {
   "cell_type": "code",
   "execution_count": 10,
   "metadata": {
    "colab_type": "code"
   },
   "outputs": [],
   "source": [
    "inputs = keras.Input(shape=(3,), name=\"my_input\")"
   ]
  },
  {
   "cell_type": "code",
   "execution_count": 11,
   "metadata": {
    "colab_type": "code"
   },
   "outputs": [
    {
     "data": {
      "text/plain": [
       "TensorShape([None, 3])"
      ]
     },
     "execution_count": 11,
     "metadata": {},
     "output_type": "execute_result"
    }
   ],
   "source": [
    "inputs.shape"
   ]
  },
  {
   "cell_type": "code",
   "execution_count": 12,
   "metadata": {
    "colab_type": "code"
   },
   "outputs": [
    {
     "data": {
      "text/plain": [
       "tf.float32"
      ]
     },
     "execution_count": 12,
     "metadata": {},
     "output_type": "execute_result"
    }
   ],
   "source": [
    "inputs.dtype"
   ]
  },
  {
   "cell_type": "code",
   "execution_count": 13,
   "metadata": {
    "colab_type": "code"
   },
   "outputs": [],
   "source": [
    "features = layers.Dense(64, activation=\"relu\")(inputs)"
   ]
  },
  {
   "cell_type": "code",
   "execution_count": 14,
   "metadata": {
    "colab_type": "code"
   },
   "outputs": [
    {
     "data": {
      "text/plain": [
       "TensorShape([None, 64])"
      ]
     },
     "execution_count": 14,
     "metadata": {},
     "output_type": "execute_result"
    }
   ],
   "source": [
    "features.shape"
   ]
  },
  {
   "cell_type": "code",
   "execution_count": 15,
   "metadata": {
    "colab_type": "code"
   },
   "outputs": [],
   "source": [
    "outputs = layers.Dense(10, activation=\"softmax\")(features)\n",
    "model = keras.Model(inputs=inputs, outputs=outputs)"
   ]
  },
  {
   "cell_type": "code",
   "execution_count": 16,
   "metadata": {
    "colab_type": "code"
   },
   "outputs": [
    {
     "name": "stdout",
     "output_type": "stream",
     "text": [
      "Model: \"model_1\"\n",
      "_________________________________________________________________\n",
      " Layer (type)                Output Shape              Param #   \n",
      "=================================================================\n",
      " my_input (InputLayer)       [(None, 3)]               0         \n",
      "                                                                 \n",
      " dense_8 (Dense)             (None, 64)                256       \n",
      "                                                                 \n",
      " dense_9 (Dense)             (None, 10)                650       \n",
      "                                                                 \n",
      "=================================================================\n",
      "Total params: 906\n",
      "Trainable params: 906\n",
      "Non-trainable params: 0\n",
      "_________________________________________________________________\n"
     ]
    }
   ],
   "source": [
    "model.summary()"
   ]
  },
  {
   "cell_type": "markdown",
   "metadata": {
    "colab_type": "text"
   },
   "source": [
    "#### Multi-input, multi-output models"
   ]
  },
  {
   "cell_type": "markdown",
   "metadata": {
    "colab_type": "text"
   },
   "source": [
    "**A multi-input, multi-output Functional model**"
   ]
  },
  {
   "cell_type": "code",
   "execution_count": 17,
   "metadata": {
    "colab_type": "code"
   },
   "outputs": [],
   "source": [
    "vocabulary_size = 10000\n",
    "num_tags = 100\n",
    "num_departments = 4\n",
    "\n",
    "title = keras.Input(shape=(vocabulary_size,), name=\"title\")\n",
    "text_body = keras.Input(shape=(vocabulary_size,), name=\"text_body\")\n",
    "tags = keras.Input(shape=(num_tags,), name=\"tags\")\n",
    "\n",
    "features = layers.Concatenate()([title, text_body, tags])\n",
    "features = layers.Dense(64, activation=\"relu\")(features)\n",
    "\n",
    "priority = layers.Dense(1, activation=\"sigmoid\", name=\"priority\")(features)\n",
    "department = layers.Dense(\n",
    "    num_departments, activation=\"softmax\", name=\"department\")(features)\n",
    "\n",
    "model = keras.Model(inputs=[title, text_body, tags], outputs=[priority, department])"
   ]
  },
  {
   "cell_type": "markdown",
   "metadata": {
    "colab_type": "text"
   },
   "source": [
    "#### Training a multi-input, multi-output model"
   ]
  },
  {
   "cell_type": "markdown",
   "metadata": {
    "colab_type": "text"
   },
   "source": [
    "**Training a model by providing lists of input & target arrays**"
   ]
  },
  {
   "cell_type": "code",
   "execution_count": 18,
   "metadata": {
    "colab_type": "code"
   },
   "outputs": [
    {
     "name": "stdout",
     "output_type": "stream",
     "text": [
      "40/40 [==============================] - 3s 3ms/step - loss: 37.1760 - priority_loss: 0.3291 - department_loss: 36.8468 - priority_mean_absolute_error: 0.4947 - department_accuracy: 0.3008\n",
      "40/40 [==============================] - 0s 2ms/step - loss: 35.5687 - priority_loss: 0.3351 - department_loss: 35.2336 - priority_mean_absolute_error: 0.5015 - department_accuracy: 0.1289\n",
      "40/40 [==============================] - 0s 1ms/step\n"
     ]
    }
   ],
   "source": [
    "import numpy as np\n",
    "\n",
    "num_samples = 1280\n",
    "\n",
    "title_data = np.random.randint(0, 2, size=(num_samples, vocabulary_size))\n",
    "text_body_data = np.random.randint(0, 2, size=(num_samples, vocabulary_size))\n",
    "tags_data = np.random.randint(0, 2, size=(num_samples, num_tags))\n",
    "\n",
    "priority_data = np.random.random(size=(num_samples, 1))\n",
    "department_data = np.random.randint(0, 2, size=(num_samples, num_departments))\n",
    "\n",
    "model.compile(optimizer=\"rmsprop\",\n",
    "              loss=[\"mean_squared_error\", \"categorical_crossentropy\"],\n",
    "              metrics=[[\"mean_absolute_error\"], [\"accuracy\"]])\n",
    "model.fit([title_data, text_body_data, tags_data],\n",
    "          [priority_data, department_data],\n",
    "          epochs=1)\n",
    "model.evaluate([title_data, text_body_data, tags_data],\n",
    "               [priority_data, department_data])\n",
    "priority_preds, department_preds = model.predict([title_data, text_body_data, tags_data])"
   ]
  },
  {
   "cell_type": "markdown",
   "metadata": {
    "colab_type": "text"
   },
   "source": [
    "**Training a model by providing dicts of input & target arrays**"
   ]
  },
  {
   "cell_type": "code",
   "execution_count": 19,
   "metadata": {
    "colab_type": "code"
   },
   "outputs": [
    {
     "name": "stdout",
     "output_type": "stream",
     "text": [
      "40/40 [==============================] - 1s 7ms/step - loss: 44.4299 - priority_loss: 0.3351 - department_loss: 44.0948 - priority_mean_absolute_error: 0.5015 - department_accuracy: 0.2805\n",
      "40/40 [==============================] - 0s 2ms/step - loss: 23.8286 - priority_loss: 0.3351 - department_loss: 23.4935 - priority_mean_absolute_error: 0.5015 - department_accuracy: 0.1391\n",
      "40/40 [==============================] - 0s 2ms/step\n"
     ]
    }
   ],
   "source": [
    "model.compile(optimizer=\"rmsprop\",\n",
    "              loss={\"priority\": \"mean_squared_error\", \"department\": \"categorical_crossentropy\"},\n",
    "              metrics={\"priority\": [\"mean_absolute_error\"], \"department\": [\"accuracy\"]})\n",
    "model.fit({\"title\": title_data, \"text_body\": text_body_data, \"tags\": tags_data},\n",
    "          {\"priority\": priority_data, \"department\": department_data},\n",
    "          epochs=1)\n",
    "model.evaluate({\"title\": title_data, \"text_body\": text_body_data, \"tags\": tags_data},\n",
    "               {\"priority\": priority_data, \"department\": department_data})\n",
    "priority_preds, department_preds = model.predict(\n",
    "    {\"title\": title_data, \"text_body\": text_body_data, \"tags\": tags_data})"
   ]
  },
  {
   "cell_type": "markdown",
   "metadata": {
    "colab_type": "text"
   },
   "source": [
    "#### The power of the Functional API: Access to layer connectivity"
   ]
  },
  {
   "cell_type": "code",
   "execution_count": 20,
   "metadata": {
    "colab_type": "code"
   },
   "outputs": [
    {
     "data": {
      "image/png": "[encoded data removed]",
      "text/plain": [
       "<IPython.core.display.Image object>"
      ]
     },
     "execution_count": 20,
     "metadata": {},
     "output_type": "execute_result"
    }
   ],
   "source": [
    "keras.utils.plot_model(model, \"ticket_classifier.png\")"
   ]
  },
  {
   "cell_type": "code",
   "execution_count": 21,
   "metadata": {
    "colab_type": "code"
   },
   "outputs": [
    {
     "data": {
      "image/png": "[encoded data removed]",
      "text/plain": [
       "<IPython.core.display.Image object>"
      ]
     },
     "execution_count": 21,
     "metadata": {},
     "output_type": "execute_result"
    }
   ],
   "source": [
    "keras.utils.plot_model(model, \"ticket_classifier_with_shape_info.png\", show_shapes=True)"
   ]
  },
  {
   "cell_type": "markdown",
   "metadata": {
    "colab_type": "text"
   },
   "source": [
    "**Retrieving the inputs or outputs of a layer in a Functional model**"
   ]
  },
  {
   "cell_type": "code",
   "execution_count": 22,
   "metadata": {
    "colab_type": "code"
   },
   "outputs": [
    {
     "data": {
      "text/plain": [
       "[<keras.engine.input_layer.InputLayer at 0x23d1764e9a0>,\n",
       " <keras.engine.input_layer.InputLayer at 0x23d1764eac0>,\n",
       " <keras.engine.input_layer.InputLayer at 0x23d1764eb20>,\n",
       " <keras.layers.merging.concatenate.Concatenate at 0x23d1764e610>,\n",
       " <keras.layers.core.dense.Dense at 0x23d1764ef40>,\n",
       " <keras.layers.core.dense.Dense at 0x23d1764e160>,\n",
       " <keras.layers.core.dense.Dense at 0x23d1763c5e0>]"
      ]
     },
     "execution_count": 22,
     "metadata": {},
     "output_type": "execute_result"
    }
   ],
   "source": [
    "model.layers"
   ]
  },
  {
   "cell_type": "code",
   "execution_count": 23,
   "metadata": {
    "colab_type": "code"
   },
   "outputs": [
    {
     "data": {
      "text/plain": [
       "[<KerasTensor: shape=(None, 10000) dtype=float32 (created by layer 'title')>,\n",
       " <KerasTensor: shape=(None, 10000) dtype=float32 (created by layer 'text_body')>,\n",
       " <KerasTensor: shape=(None, 100) dtype=float32 (created by layer 'tags')>]"
      ]
     },
     "execution_count": 23,
     "metadata": {},
     "output_type": "execute_result"
    }
   ],
   "source": [
    "model.layers[3].input"
   ]
  },
  {
   "cell_type": "code",
   "execution_count": 24,
   "metadata": {
    "colab_type": "code"
   },
   "outputs": [
    {
     "data": {
      "text/plain": [
       "<KerasTensor: shape=(None, 20100) dtype=float32 (created by layer 'concatenate')>"
      ]
     },
     "execution_count": 24,
     "metadata": {},
     "output_type": "execute_result"
    }
   ],
   "source": [
    "model.layers[3].output"
   ]
  },
  {
   "cell_type": "markdown",
   "metadata": {
    "colab_type": "text"
   },
   "source": [
    "**Creating a new model by reusing intermediate layer outputs**"
   ]
  },
  {
   "cell_type": "code",
   "execution_count": 25,
   "metadata": {
    "colab_type": "code"
   },
   "outputs": [],
   "source": [
    "features = model.layers[4].output\n",
    "difficulty = layers.Dense(3, activation=\"softmax\", name=\"difficulty\")(features)\n",
    "\n",
    "new_model = keras.Model(\n",
    "    inputs=[title, text_body, tags],\n",
    "    outputs=[priority, department, difficulty])"
   ]
  },
  {
   "cell_type": "code",
   "execution_count": 26,
   "metadata": {
    "colab_type": "code"
   },
   "outputs": [
    {
     "data": {
      "image/png": "[encoded data removed]",
      "text/plain": [
       "<IPython.core.display.Image object>"
      ]
     },
     "execution_count": 26,
     "metadata": {},
     "output_type": "execute_result"
    }
   ],
   "source": [
    "keras.utils.plot_model(new_model, \"updated_ticket_classifier.png\", show_shapes=True)"
   ]
  },
  {
   "cell_type": "markdown",
   "metadata": {
    "colab_type": "text"
   },
   "source": [
    "### Subclassing the Model class"
   ]
  },
  {
   "cell_type": "markdown",
   "metadata": {
    "colab_type": "text"
   },
   "source": [
    "#### Rewriting our previous example as a subclassed model"
   ]
  },
  {
   "cell_type": "markdown",
   "metadata": {
    "colab_type": "text"
   },
   "source": [
    "**A simple subclassed model**"
   ]
  },
  {
   "cell_type": "code",
   "execution_count": 27,
   "metadata": {
    "colab_type": "code"
   },
   "outputs": [],
   "source": [
    "class CustomerTicketModel(keras.Model):\n",
    "\n",
    "    def __init__(self, num_departments):\n",
    "        super().__init__()\n",
    "        self.concat_layer = layers.Concatenate()\n",
    "        self.mixing_layer = layers.Dense(64, activation=\"relu\")\n",
    "        self.priority_scorer = layers.Dense(1, activation=\"sigmoid\")\n",
    "        self.department_classifier = layers.Dense(\n",
    "            num_departments, activation=\"softmax\")\n",
    "\n",
    "    def call(self, inputs):\n",
    "        title = inputs[\"title\"]\n",
    "        text_body = inputs[\"text_body\"]\n",
    "        tags = inputs[\"tags\"]\n",
    "\n",
    "        features = self.concat_layer([title, text_body, tags])\n",
    "        features = self.mixing_layer(features)\n",
    "        priority = self.priority_scorer(features)\n",
    "        department = self.department_classifier(features)\n",
    "        return priority, department"
   ]
  },
  {
   "cell_type": "code",
   "execution_count": 28,
   "metadata": {
    "colab_type": "code"
   },
   "outputs": [],
   "source": [
    "model = CustomerTicketModel(num_departments=4)\n",
    "\n",
    "priority, department = model(\n",
    "    {\"title\": title_data, \"text_body\": text_body_data, \"tags\": tags_data})"
   ]
  },
  {
   "cell_type": "code",
   "execution_count": 29,
   "metadata": {
    "colab_type": "code"
   },
   "outputs": [
    {
     "name": "stdout",
     "output_type": "stream",
     "text": [
      "40/40 [==============================] - 1s 4ms/step - loss: 31.0046 - output_1_loss: 0.3264 - output_2_loss: 30.6782 - output_1_mean_absolute_error: 0.4939 - output_2_accuracy: 0.2406\n",
      "40/40 [==============================] - 0s 3ms/step - loss: 19.3614 - output_1_loss: 0.3322 - output_2_loss: 19.0292 - output_1_mean_absolute_error: 0.4985 - output_2_accuracy: 0.1312\n",
      "40/40 [==============================] - 0s 2ms/step\n"
     ]
    }
   ],
   "source": [
    "model.compile(optimizer=\"rmsprop\",\n",
    "              loss=[\"mean_squared_error\", \"categorical_crossentropy\"],\n",
    "              metrics=[[\"mean_absolute_error\"], [\"accuracy\"]])\n",
    "model.fit({\"title\": title_data,\n",
    "           \"text_body\": text_body_data,\n",
    "           \"tags\": tags_data},\n",
    "          [priority_data, department_data],\n",
    "          epochs=1)\n",
    "model.evaluate({\"title\": title_data,\n",
    "                \"text_body\": text_body_data,\n",
    "                \"tags\": tags_data},\n",
    "               [priority_data, department_data])\n",
    "priority_preds, department_preds = model.predict({\"title\": title_data,\n",
    "                                                  \"text_body\": text_body_data,\n",
    "                                                  \"tags\": tags_data})"
   ]
  },
  {
   "cell_type": "markdown",
   "metadata": {
    "colab_type": "text"
   },
   "source": [
    "#### Beware: What subclassed models don't support"
   ]
  },
  {
   "cell_type": "markdown",
   "metadata": {
    "colab_type": "text"
   },
   "source": [
    "### Mixing and matching different components"
   ]
  },
  {
   "cell_type": "markdown",
   "metadata": {
    "colab_type": "text"
   },
   "source": [
    "**Creating a Functional model that includes a subclassed model**"
   ]
  },
  {
   "cell_type": "code",
   "execution_count": 30,
   "metadata": {
    "colab_type": "code"
   },
   "outputs": [],
   "source": [
    "class Classifier(keras.Model):\n",
    "\n",
    "    def __init__(self, num_classes=2):\n",
    "        super().__init__()\n",
    "        if num_classes == 2:\n",
    "            num_units = 1\n",
    "            activation = \"sigmoid\"\n",
    "        else:\n",
    "            num_units = num_classes\n",
    "            activation = \"softmax\"\n",
    "        self.dense = layers.Dense(num_units, activation=activation)\n",
    "\n",
    "    def call(self, inputs):\n",
    "        return self.dense(inputs)\n",
    "\n",
    "inputs = keras.Input(shape=(3,))\n",
    "features = layers.Dense(64, activation=\"relu\")(inputs)\n",
    "outputs = Classifier(num_classes=10)(features)\n",
    "model = keras.Model(inputs=inputs, outputs=outputs)"
   ]
  },
  {
   "cell_type": "markdown",
   "metadata": {
    "colab_type": "text"
   },
   "source": [
    "**Creating a subclassed model that includes a Functional model**"
   ]
  },
  {
   "cell_type": "code",
   "execution_count": 31,
   "metadata": {
    "colab_type": "code"
   },
   "outputs": [],
   "source": [
    "inputs = keras.Input(shape=(64,))\n",
    "outputs = layers.Dense(1, activation=\"sigmoid\")(inputs)\n",
    "binary_classifier = keras.Model(inputs=inputs, outputs=outputs)\n",
    "\n",
    "class MyModel(keras.Model):\n",
    "\n",
    "    def __init__(self, num_classes=2):\n",
    "        super().__init__()\n",
    "        self.dense = layers.Dense(64, activation=\"relu\")\n",
    "        self.classifier = binary_classifier\n",
    "\n",
    "    def call(self, inputs):\n",
    "        features = self.dense(inputs)\n",
    "        return self.classifier(features)\n",
    "\n",
    "model = MyModel()"
   ]
  },
  {
   "cell_type": "markdown",
   "metadata": {
    "colab_type": "text"
   },
   "source": [
    "### Remember: Use the right tool for the job"
   ]
  },
  {
   "cell_type": "markdown",
   "metadata": {
    "colab_type": "text"
   },
   "source": [
    "## Using built-in training and evaluation loops"
   ]
  },
  {
   "cell_type": "markdown",
   "metadata": {
    "colab_type": "text"
   },
   "source": [
    "**The standard workflow: `compile()`, `fit()`, `evaluate()`, `predict()`**"
   ]
  },
  {
   "cell_type": "code",
   "execution_count": 32,
   "metadata": {
    "colab_type": "code"
   },
   "outputs": [
    {
     "name": "stdout",
     "output_type": "stream",
     "text": [
      "Epoch 1/3\n",
      "1563/1563 [==============================] - 4s 3ms/step - loss: 0.2922 - accuracy: 0.9139 - val_loss: 0.1623 - val_accuracy: 0.9537\n",
      "Epoch 2/3\n",
      "1563/1563 [==============================] - 4s 2ms/step - loss: 0.1638 - accuracy: 0.9537 - val_loss: 0.1298 - val_accuracy: 0.9653\n",
      "Epoch 3/3\n",
      "1563/1563 [==============================] - 4s 2ms/step - loss: 0.1378 - accuracy: 0.9619 - val_loss: 0.1136 - val_accuracy: 0.9714\n",
      "313/313 [==============================] - 0s 1ms/step - loss: 0.1045 - accuracy: 0.9730\n",
      "313/313 [==============================] - 0s 733us/step\n"
     ]
    }
   ],
   "source": [
    "from tensorflow.keras.datasets import mnist\n",
    "\n",
    "def get_mnist_model():\n",
    "    inputs = keras.Input(shape=(28 * 28,))\n",
    "    features = layers.Dense(512, activation=\"relu\")(inputs)\n",
    "    features = layers.Dropout(0.5)(features)\n",
    "    outputs = layers.Dense(10, activation=\"softmax\")(features)\n",
    "    model = keras.Model(inputs, outputs)\n",
    "    return model\n",
    "\n",
    "(images, labels), (test_images, test_labels) = mnist.load_data()\n",
    "images = images.reshape((60000, 28 * 28)).astype(\"float32\") / 255\n",
    "test_images = test_images.reshape((10000, 28 * 28)).astype(\"float32\") / 255\n",
    "train_images, val_images = images[10000:], images[:10000]\n",
    "train_labels, val_labels = labels[10000:], labels[:10000]\n",
    "\n",
    "model = get_mnist_model()\n",
    "model.compile(optimizer=\"rmsprop\",\n",
    "              loss=\"sparse_categorical_crossentropy\",\n",
    "              metrics=[\"accuracy\"])\n",
    "model.fit(train_images, train_labels,\n",
    "          epochs=3,\n",
    "          validation_data=(val_images, val_labels))\n",
    "test_metrics = model.evaluate(test_images, test_labels)\n",
    "predictions = model.predict(test_images)"
   ]
  },
  {
   "cell_type": "markdown",
   "metadata": {
    "colab_type": "text"
   },
   "source": [
    "### Writing your own metrics"
   ]
  },
  {
   "cell_type": "markdown",
   "metadata": {
    "colab_type": "text"
   },
   "source": [
    "**Implementing a custom metric by subclassing the `Metric` class**"
   ]
  },
  {
   "cell_type": "code",
   "execution_count": 33,
   "metadata": {
    "colab_type": "code"
   },
   "outputs": [],
   "source": [
    "import tensorflow as tf\n",
    "\n",
    "class RootMeanSquaredError(keras.metrics.Metric):\n",
    "\n",
    "    def __init__(self, name=\"rmse\", **kwargs):\n",
    "        super().__init__(name=name, **kwargs)\n",
    "        self.mse_sum = self.add_weight(name=\"mse_sum\", initializer=\"zeros\")\n",
    "        self.total_samples = self.add_weight(\n",
    "            name=\"total_samples\", initializer=\"zeros\", dtype=\"int32\")\n",
    "\n",
    "    def update_state(self, y_true, y_pred, sample_weight=None):\n",
    "        y_true = tf.one_hot(y_true, depth=tf.shape(y_pred)[1])\n",
    "        mse = tf.reduce_sum(tf.square(y_true - y_pred))\n",
    "        self.mse_sum.assign_add(mse)\n",
    "        num_samples = tf.shape(y_pred)[0]\n",
    "        self.total_samples.assign_add(num_samples)\n",
    "\n",
    "    def result(self):\n",
    "        return tf.sqrt(self.mse_sum / tf.cast(self.total_samples, tf.float32))\n",
    "\n",
    "    def reset_state(self):\n",
    "        self.mse_sum.assign(0.)\n",
    "        self.total_samples.assign(0)"
   ]
  },
  {
   "cell_type": "code",
   "execution_count": 34,
   "metadata": {
    "colab_type": "code"
   },
   "outputs": [
    {
     "name": "stdout",
     "output_type": "stream",
     "text": [
      "Epoch 1/3\n",
      "1563/1563 [==============================] - 5s 3ms/step - loss: 0.2929 - accuracy: 0.9141 - rmse: 7.1844 - val_loss: 0.1523 - val_accuracy: 0.9538 - val_rmse: 7.3607\n",
      "Epoch 2/3\n",
      "1563/1563 [==============================] - 4s 3ms/step - loss: 0.1646 - accuracy: 0.9535 - rmse: 7.3528 - val_loss: 0.1267 - val_accuracy: 0.9668 - val_rmse: 7.4002\n",
      "Epoch 3/3\n",
      "1563/1563 [==============================] - 4s 3ms/step - loss: 0.1409 - accuracy: 0.9622 - rmse: 7.3872 - val_loss: 0.1152 - val_accuracy: 0.9710 - val_rmse: 7.4220\n",
      "313/313 [==============================] - 1s 2ms/step - loss: 0.1031 - accuracy: 0.9736 - rmse: 7.4372\n"
     ]
    }
   ],
   "source": [
    "model = get_mnist_model()\n",
    "model.compile(optimizer=\"rmsprop\",\n",
    "              loss=\"sparse_categorical_crossentropy\",\n",
    "              metrics=[\"accuracy\", RootMeanSquaredError()])\n",
    "model.fit(train_images, train_labels,\n",
    "          epochs=3,\n",
    "          validation_data=(val_images, val_labels))\n",
    "test_metrics = model.evaluate(test_images, test_labels)"
   ]
  },
  {
   "cell_type": "markdown",
   "metadata": {
    "colab_type": "text"
   },
   "source": [
    "### Using callbacks"
   ]
  },
  {
   "cell_type": "markdown",
   "metadata": {
    "colab_type": "text"
   },
   "source": [
    "#### The EarlyStopping and ModelCheckpoint callbacks"
   ]
  },
  {
   "cell_type": "markdown",
   "metadata": {
    "colab_type": "text"
   },
   "source": [
    "**Using the `callbacks` argument in the `fit()` method**"
   ]
  },
  {
   "cell_type": "code",
   "execution_count": 35,
   "metadata": {
    "colab_type": "code"
   },
   "outputs": [
    {
     "name": "stdout",
     "output_type": "stream",
     "text": [
      "Epoch 1/10\n",
      "1563/1563 [==============================] - 5s 3ms/step - loss: 0.2947 - accuracy: 0.9135 - val_loss: 0.1628 - val_accuracy: 0.9524\n",
      "Epoch 2/10\n",
      "1563/1563 [==============================] - 4s 2ms/step - loss: 0.1657 - accuracy: 0.9526 - val_loss: 0.1281 - val_accuracy: 0.9641\n",
      "Epoch 3/10\n",
      "1563/1563 [==============================] - 4s 2ms/step - loss: 0.1432 - accuracy: 0.9626 - val_loss: 0.1092 - val_accuracy: 0.9727\n",
      "Epoch 4/10\n",
      "1563/1563 [==============================] - 4s 2ms/step - loss: 0.1278 - accuracy: 0.9663 - val_loss: 0.1117 - val_accuracy: 0.9728\n",
      "Epoch 5/10\n",
      "1563/1563 [==============================] - 4s 2ms/step - loss: 0.1153 - accuracy: 0.9703 - val_loss: 0.0992 - val_accuracy: 0.9760\n",
      "Epoch 6/10\n",
      "1563/1563 [==============================] - 4s 2ms/step - loss: 0.1112 - accuracy: 0.9732 - val_loss: 0.1109 - val_accuracy: 0.9762\n",
      "Epoch 7/10\n",
      "1563/1563 [==============================] - 4s 2ms/step - loss: 0.1084 - accuracy: 0.9743 - val_loss: 0.1157 - val_accuracy: 0.9759\n",
      "Epoch 8/10\n",
      "1563/1563 [==============================] - 4s 2ms/step - loss: 0.1006 - accuracy: 0.9766 - val_loss: 0.1078 - val_accuracy: 0.9772\n",
      "Epoch 9/10\n",
      "1563/1563 [==============================] - 4s 2ms/step - loss: 0.0992 - accuracy: 0.9777 - val_loss: 0.1174 - val_accuracy: 0.9786\n",
      "Epoch 10/10\n",
      "1563/1563 [==============================] - 4s 2ms/step - loss: 0.0927 - accuracy: 0.9788 - val_loss: 0.1189 - val_accuracy: 0.9781\n"
     ]
    },
    {
     "data": {
      "text/plain": [
       "<keras.callbacks.History at 0x23edd76ec70>"
      ]
     },
     "execution_count": 35,
     "metadata": {},
     "output_type": "execute_result"
    }
   ],
   "source": [
    "callbacks_list = [\n",
    "    keras.callbacks.EarlyStopping(\n",
    "        monitor=\"val_accuracy\",\n",
    "        patience=2,\n",
    "    ),\n",
    "    keras.callbacks.ModelCheckpoint(\n",
    "        filepath=\"checkpoint_path.keras\",\n",
    "        monitor=\"val_loss\",\n",
    "        save_best_only=True,\n",
    "    )\n",
    "]\n",
    "model = get_mnist_model()\n",
    "model.compile(optimizer=\"rmsprop\",\n",
    "              loss=\"sparse_categorical_crossentropy\",\n",
    "              metrics=[\"accuracy\"])\n",
    "model.fit(train_images, train_labels,\n",
    "          epochs=10,\n",
    "          callbacks=callbacks_list,\n",
    "          validation_data=(val_images, val_labels))"
   ]
  },
  {
   "cell_type": "code",
   "execution_count": 36,
   "metadata": {
    "colab_type": "code"
   },
   "outputs": [],
   "source": [
    "model = keras.models.load_model(\"checkpoint_path.keras\")"
   ]
  },
  {
   "cell_type": "markdown",
   "metadata": {
    "colab_type": "text"
   },
   "source": [
    "### Writing your own callbacks"
   ]
  },
  {
   "cell_type": "markdown",
   "metadata": {
    "colab_type": "text"
   },
   "source": [
    "**Creating a custom callback by subclassing the `Callback` class**"
   ]
  },
  {
   "cell_type": "code",
   "execution_count": 37,
   "metadata": {
    "colab_type": "code"
   },
   "outputs": [],
   "source": [
    "from matplotlib import pyplot as plt\n",
    "\n",
    "class LossHistory(keras.callbacks.Callback):\n",
    "    def on_train_begin(self, logs):\n",
    "        self.per_batch_losses = []\n",
    "\n",
    "    def on_batch_end(self, batch, logs):\n",
    "        self.per_batch_losses.append(logs.get(\"loss\"))\n",
    "\n",
    "    def on_epoch_end(self, epoch, logs):\n",
    "        plt.clf()\n",
    "        plt.plot(range(len(self.per_batch_losses)), self.per_batch_losses,\n",
    "                 label=\"Training loss for each batch\")\n",
    "        plt.xlabel(f\"Batch (epoch {epoch})\")\n",
    "        plt.ylabel(\"Loss\")\n",
    "        plt.legend()\n",
    "        plt.savefig(f\"plot_at_epoch_{epoch}\")\n",
    "        self.per_batch_losses = []"
   ]
  },
  {
   "cell_type": "code",
   "execution_count": 38,
   "metadata": {
    "colab_type": "code"
   },
   "outputs": [
    {
     "name": "stdout",
     "output_type": "stream",
     "text": [
      "Epoch 1/10\n",
      "1563/1563 [==============================] - 5s 3ms/step - loss: 0.2945 - accuracy: 0.9128 - val_loss: 0.1487 - val_accuracy: 0.9588\n",
      "Epoch 2/10\n",
      "1563/1563 [==============================] - 4s 3ms/step - loss: 0.1670 - accuracy: 0.9531 - val_loss: 0.1229 - val_accuracy: 0.9665\n",
      "Epoch 3/10\n",
      "1563/1563 [==============================] - 4s 3ms/step - loss: 0.1407 - accuracy: 0.9620 - val_loss: 0.1197 - val_accuracy: 0.9691\n",
      "Epoch 4/10\n",
      "1563/1563 [==============================] - 4s 3ms/step - loss: 0.1253 - accuracy: 0.9676 - val_loss: 0.1127 - val_accuracy: 0.9731\n",
      "Epoch 5/10\n",
      "1563/1563 [==============================] - 4s 3ms/step - loss: 0.1148 - accuracy: 0.9709 - val_loss: 0.1136 - val_accuracy: 0.9726\n",
      "Epoch 6/10\n",
      "1563/1563 [==============================] - 4s 3ms/step - loss: 0.1100 - accuracy: 0.9726 - val_loss: 0.1059 - val_accuracy: 0.9765\n",
      "Epoch 7/10\n",
      "1563/1563 [==============================] - 4s 2ms/step - loss: 0.1053 - accuracy: 0.9753 - val_loss: 0.1005 - val_accuracy: 0.9772\n",
      "Epoch 8/10\n",
      "1563/1563 [==============================] - 4s 2ms/step - loss: 0.0973 - accuracy: 0.9769 - val_loss: 0.1091 - val_accuracy: 0.9772\n",
      "Epoch 9/10\n",
      "1563/1563 [==============================] - 4s 3ms/step - loss: 0.0924 - accuracy: 0.9777 - val_loss: 0.1100 - val_accuracy: 0.9778\n",
      "Epoch 10/10\n",
      "1563/1563 [==============================] - 4s 2ms/step - loss: 0.0958 - accuracy: 0.9785 - val_loss: 0.1132 - val_accuracy: 0.9786\n"
     ]
    },
    {
     "data": {
      "text/plain": [
       "<keras.callbacks.History at 0x23d6a9693d0>"
      ]
     },
     "execution_count": 38,
     "metadata": {},
     "output_type": "execute_result"
    },
    {
     "data": {
      "image/png": "[encoded data removed]",
      "text/plain": [
       "<Figure size 432x288 with 1 Axes>"
      ]
     },
     "metadata": {
      "needs_background": "light"
     },
     "output_type": "display_data"
    }
   ],
   "source": [
    "model = get_mnist_model()\n",
    "model.compile(optimizer=\"rmsprop\",\n",
    "              loss=\"sparse_categorical_crossentropy\",\n",
    "              metrics=[\"accuracy\"])\n",
    "model.fit(train_images, train_labels,\n",
    "          epochs=10,\n",
    "          callbacks=[LossHistory()],\n",
    "          validation_data=(val_images, val_labels))"
   ]
  },
  {
   "cell_type": "markdown",
   "metadata": {
    "colab_type": "text"
   },
   "source": [
    "### Monitoring and visualization with TensorBoard"
   ]
  },
  {
   "cell_type": "code",
   "execution_count": 39,
   "metadata": {
    "colab_type": "code"
   },
   "outputs": [
    {
     "name": "stdout",
     "output_type": "stream",
     "text": [
      "Epoch 1/10\n",
      "1563/1563 [==============================] - 5s 3ms/step - loss: 0.2921 - accuracy: 0.9144 - val_loss: 0.1412 - val_accuracy: 0.9604\n",
      "Epoch 2/10\n",
      "1563/1563 [==============================] - 4s 2ms/step - loss: 0.1667 - accuracy: 0.9536 - val_loss: 0.1218 - val_accuracy: 0.9670\n",
      "Epoch 3/10\n",
      "1563/1563 [==============================] - 4s 2ms/step - loss: 0.1391 - accuracy: 0.9622 - val_loss: 0.1141 - val_accuracy: 0.9697\n",
      "Epoch 4/10\n",
      "1563/1563 [==============================] - 4s 2ms/step - loss: 0.1268 - accuracy: 0.9666 - val_loss: 0.1113 - val_accuracy: 0.9730\n",
      "Epoch 5/10\n",
      "1563/1563 [==============================] - 4s 2ms/step - loss: 0.1209 - accuracy: 0.9708 - val_loss: 0.1093 - val_accuracy: 0.9743\n",
      "Epoch 6/10\n",
      "1563/1563 [==============================] - 4s 2ms/step - loss: 0.1078 - accuracy: 0.9734 - val_loss: 0.1063 - val_accuracy: 0.9767\n",
      "Epoch 7/10\n",
      "1563/1563 [==============================] - 4s 2ms/step - loss: 0.1052 - accuracy: 0.9748 - val_loss: 0.1088 - val_accuracy: 0.9777\n",
      "Epoch 8/10\n",
      "1563/1563 [==============================] - 4s 2ms/step - loss: 0.1017 - accuracy: 0.9758 - val_loss: 0.1065 - val_accuracy: 0.9775\n",
      "Epoch 9/10\n",
      "1563/1563 [==============================] - 4s 2ms/step - loss: 0.1004 - accuracy: 0.9774 - val_loss: 0.1145 - val_accuracy: 0.9783\n",
      "Epoch 10/10\n",
      "1563/1563 [==============================] - 4s 2ms/step - loss: 0.0952 - accuracy: 0.9782 - val_loss: 0.1180 - val_accuracy: 0.9774\n"
     ]
    },
    {
     "data": {
      "text/plain": [
       "<keras.callbacks.History at 0x23eade35670>"
      ]
     },
     "execution_count": 39,
     "metadata": {},
     "output_type": "execute_result"
    }
   ],
   "source": [
    "model = get_mnist_model()\n",
    "model.compile(optimizer=\"rmsprop\",\n",
    "              loss=\"sparse_categorical_crossentropy\",\n",
    "              metrics=[\"accuracy\"])\n",
    "\n",
    "tensorboard = keras.callbacks.TensorBoard(\n",
    "    log_dir=\"/full_path_to_your_log_dir\",\n",
    ")\n",
    "model.fit(train_images, train_labels,\n",
    "          epochs=10,\n",
    "          validation_data=(val_images, val_labels),\n",
    "          callbacks=[tensorboard])"
   ]
  },
  {
   "cell_type": "code",
   "execution_count": 40,
   "metadata": {
    "colab_type": "code"
   },
   "outputs": [
    {
     "data": {
      "text/html": [
       "\n",
       "      <iframe id=\"tensorboard-frame-9b020bb85694a99e\" width=\"100%\" height=\"800\" frameborder=\"0\">\n",
       "      </iframe>\n",
       "      <script>\n",
       "        (function() {\n",
       "          const frame = document.getElementById(\"tensorboard-frame-9b020bb85694a99e\");\n",
       "          const url = new URL(\"/\", window.location);\n",
       "          const port = 6006;\n",
       "          if (port) {\n",
       "            url.port = port;\n",
       "          }\n",
       "          frame.src = url;\n",
       "        })();\n",
       "      </script>\n",
       "    "
      ],
      "text/plain": [
       "<IPython.core.display.HTML object>"
      ]
     },
     "metadata": {},
     "output_type": "display_data"
    }
   ],
   "source": [
    "%load_ext tensorboard\n",
    "%tensorboard --logdir /full_path_to_your_log_dir"
   ]
  },
  {
   "cell_type": "markdown",
   "metadata": {
    "colab_type": "text"
   },
   "source": [
    "## Writing your own training and evaluation loops"
   ]
  },
  {
   "cell_type": "markdown",
   "metadata": {
    "colab_type": "text"
   },
   "source": [
    "### Training versus inference"
   ]
  },
  {
   "cell_type": "markdown",
   "metadata": {
    "colab_type": "text"
   },
   "source": [
    "### Low-level usage of metrics"
   ]
  },
  {
   "cell_type": "code",
   "execution_count": 41,
   "metadata": {
    "colab_type": "code"
   },
   "outputs": [
    {
     "name": "stdout",
     "output_type": "stream",
     "text": [
      "result: 1.00\n"
     ]
    }
   ],
   "source": [
    "metric = keras.metrics.SparseCategoricalAccuracy()\n",
    "targets = [0, 1, 2]\n",
    "predictions = [[1, 0, 0], [0, 1, 0], [0, 0, 1]]\n",
    "metric.update_state(targets, predictions)\n",
    "current_result = metric.result()\n",
    "print(f\"result: {current_result:.2f}\")"
   ]
  },
  {
   "cell_type": "code",
   "execution_count": 42,
   "metadata": {
    "colab_type": "code"
   },
   "outputs": [
    {
     "name": "stdout",
     "output_type": "stream",
     "text": [
      "Mean of values: 2.00\n"
     ]
    }
   ],
   "source": [
    "values = [0, 1, 2, 3, 4]\n",
    "mean_tracker = keras.metrics.Mean()\n",
    "for value in values:\n",
    "    mean_tracker.update_state(value)\n",
    "print(f\"Mean of values: {mean_tracker.result():.2f}\")"
   ]
  },
  {
   "cell_type": "markdown",
   "metadata": {
    "colab_type": "text"
   },
   "source": [
    "### A complete training and evaluation loop"
   ]
  },
  {
   "cell_type": "markdown",
   "metadata": {
    "colab_type": "text"
   },
   "source": [
    "**Writing a step-by-step training loop: the training step function**"
   ]
  },
  {
   "cell_type": "code",
   "execution_count": 43,
   "metadata": {
    "colab_type": "code"
   },
   "outputs": [],
   "source": [
    "model = get_mnist_model()\n",
    "\n",
    "loss_fn = keras.losses.SparseCategoricalCrossentropy()\n",
    "optimizer = keras.optimizers.RMSprop()\n",
    "metrics = [keras.metrics.SparseCategoricalAccuracy()]\n",
    "loss_tracking_metric = keras.metrics.Mean()\n",
    "\n",
    "def train_step(inputs, targets):\n",
    "    with tf.GradientTape() as tape:\n",
    "        predictions = model(inputs, training=True)\n",
    "        loss = loss_fn(targets, predictions)\n",
    "    gradients = tape.gradient(loss, model.trainable_weights)\n",
    "    optimizer.apply_gradients(zip(gradients, model.trainable_weights))\n",
    "\n",
    "    logs = {}\n",
    "    for metric in metrics:\n",
    "        metric.update_state(targets, predictions)\n",
    "        logs[metric.name] = metric.result()\n",
    "\n",
    "    loss_tracking_metric.update_state(loss)\n",
    "    logs[\"loss\"] = loss_tracking_metric.result()\n",
    "    return logs"
   ]
  },
  {
   "cell_type": "markdown",
   "metadata": {
    "colab_type": "text"
   },
   "source": [
    "**Writing a step-by-step training loop: resetting the metrics**"
   ]
  },
  {
   "cell_type": "code",
   "execution_count": 44,
   "metadata": {
    "colab_type": "code"
   },
   "outputs": [],
   "source": [
    "def reset_metrics():\n",
    "    for metric in metrics:\n",
    "        metric.reset_state()\n",
    "    loss_tracking_metric.reset_state()"
   ]
  },
  {
   "cell_type": "markdown",
   "metadata": {
    "colab_type": "text"
   },
   "source": [
    "**Writing a step-by-step training loop: the loop itself**"
   ]
  },
  {
   "cell_type": "code",
   "execution_count": 45,
   "metadata": {
    "colab_type": "code"
   },
   "outputs": [
    {
     "name": "stdout",
     "output_type": "stream",
     "text": [
      "Results at the end of epoch 0\n",
      "...sparse_categorical_accuracy: 0.9135\n",
      "...loss: 0.2918\n",
      "Results at the end of epoch 1\n",
      "...sparse_categorical_accuracy: 0.9528\n",
      "...loss: 0.1667\n",
      "Results at the end of epoch 2\n",
      "...sparse_categorical_accuracy: 0.9630\n",
      "...loss: 0.1393\n"
     ]
    }
   ],
   "source": [
    "training_dataset = tf.data.Dataset.from_tensor_slices((train_images, train_labels))\n",
    "training_dataset = training_dataset.batch(32)\n",
    "epochs = 3\n",
    "for epoch in range(epochs):\n",
    "    reset_metrics()\n",
    "    for inputs_batch, targets_batch in training_dataset:\n",
    "        logs = train_step(inputs_batch, targets_batch)\n",
    "    print(f\"Results at the end of epoch {epoch}\")\n",
    "    for key, value in logs.items():\n",
    "        print(f\"...{key}: {value:.4f}\")"
   ]
  },
  {
   "cell_type": "markdown",
   "metadata": {
    "colab_type": "text"
   },
   "source": [
    "**Writing a step-by-step evaluation loop**"
   ]
  },
  {
   "cell_type": "code",
   "execution_count": 46,
   "metadata": {
    "colab_type": "code"
   },
   "outputs": [
    {
     "name": "stdout",
     "output_type": "stream",
     "text": [
      "Evaluation results:\n",
      "...val_sparse_categorical_accuracy: 0.9673\n",
      "...val_loss: 0.1282\n"
     ]
    }
   ],
   "source": [
    "def test_step(inputs, targets):\n",
    "    predictions = model(inputs, training=False)\n",
    "    loss = loss_fn(targets, predictions)\n",
    "\n",
    "    logs = {}\n",
    "    for metric in metrics:\n",
    "        metric.update_state(targets, predictions)\n",
    "        logs[\"val_\" + metric.name] = metric.result()\n",
    "\n",
    "    loss_tracking_metric.update_state(loss)\n",
    "    logs[\"val_loss\"] = loss_tracking_metric.result()\n",
    "    return logs\n",
    "\n",
    "val_dataset = tf.data.Dataset.from_tensor_slices((val_images, val_labels))\n",
    "val_dataset = val_dataset.batch(32)\n",
    "reset_metrics()\n",
    "for inputs_batch, targets_batch in val_dataset:\n",
    "    logs = test_step(inputs_batch, targets_batch)\n",
    "print(\"Evaluation results:\")\n",
    "for key, value in logs.items():\n",
    "    print(f\"...{key}: {value:.4f}\")"
   ]
  },
  {
   "cell_type": "markdown",
   "metadata": {
    "colab_type": "text"
   },
   "source": [
    "### Make it fast with tf.function"
   ]
  },
  {
   "cell_type": "markdown",
   "metadata": {
    "colab_type": "text"
   },
   "source": [
    "**Adding a `tf.function` decorator to our evaluation-step function**"
   ]
  },
  {
   "cell_type": "code",
   "execution_count": 47,
   "metadata": {
    "colab_type": "code"
   },
   "outputs": [
    {
     "name": "stdout",
     "output_type": "stream",
     "text": [
      "Evaluation results:\n",
      "...val_sparse_categorical_accuracy: 0.9673\n",
      "...val_loss: 0.1282\n"
     ]
    }
   ],
   "source": [
    "@tf.function\n",
    "def test_step(inputs, targets):\n",
    "    predictions = model(inputs, training=False)\n",
    "    loss = loss_fn(targets, predictions)\n",
    "\n",
    "    logs = {}\n",
    "    for metric in metrics:\n",
    "        metric.update_state(targets, predictions)\n",
    "        logs[\"val_\" + metric.name] = metric.result()\n",
    "\n",
    "    loss_tracking_metric.update_state(loss)\n",
    "    logs[\"val_loss\"] = loss_tracking_metric.result()\n",
    "    return logs\n",
    "\n",
    "val_dataset = tf.data.Dataset.from_tensor_slices((val_images, val_labels))\n",
    "val_dataset = val_dataset.batch(32)\n",
    "reset_metrics()\n",
    "for inputs_batch, targets_batch in val_dataset:\n",
    "    logs = test_step(inputs_batch, targets_batch)\n",
    "print(\"Evaluation results:\")\n",
    "for key, value in logs.items():\n",
    "    print(f\"...{key}: {value:.4f}\")"
   ]
  },
  {
   "cell_type": "markdown",
   "metadata": {
    "colab_type": "text"
   },
   "source": [
    "### Leveraging fit() with a custom training loop"
   ]
  },
  {
   "cell_type": "markdown",
   "metadata": {
    "colab_type": "text"
   },
   "source": [
    "**Implementing a custom training step to use with `fit()`**"
   ]
  },
  {
   "cell_type": "code",
   "execution_count": 48,
   "metadata": {
    "colab_type": "code"
   },
   "outputs": [],
   "source": [
    "loss_fn = keras.losses.SparseCategoricalCrossentropy()\n",
    "loss_tracker = keras.metrics.Mean(name=\"loss\")\n",
    "\n",
    "class CustomModel(keras.Model):\n",
    "    def train_step(self, data):\n",
    "        inputs, targets = data\n",
    "        with tf.GradientTape() as tape:\n",
    "            predictions = self(inputs, training=True)\n",
    "            loss = loss_fn(targets, predictions)\n",
    "        gradients = tape.gradient(loss, self.trainable_weights)\n",
    "        self.optimizer.apply_gradients(zip(gradients, self.trainable_weights))\n",
    "\n",
    "        loss_tracker.update_state(loss)\n",
    "        return {\"loss\": loss_tracker.result()}\n",
    "\n",
    "    @property\n",
    "    def metrics(self):\n",
    "        return [loss_tracker]"
   ]
  },
  {
   "cell_type": "code",
   "execution_count": 49,
   "metadata": {
    "colab_type": "code"
   },
   "outputs": [
    {
     "name": "stdout",
     "output_type": "stream",
     "text": [
      "Epoch 1/3\n",
      "1563/1563 [==============================] - 3s 2ms/step - loss: 0.2953\n",
      "Epoch 2/3\n",
      "1563/1563 [==============================] - 3s 2ms/step - loss: 0.1631\n",
      "Epoch 3/3\n",
      "1563/1563 [==============================] - 3s 2ms/step - loss: 0.1385\n"
     ]
    },
    {
     "data": {
      "text/plain": [
       "<keras.callbacks.History at 0x23eb532aa30>"
      ]
     },
     "execution_count": 49,
     "metadata": {},
     "output_type": "execute_result"
    }
   ],
   "source": [
    "inputs = keras.Input(shape=(28 * 28,))\n",
    "features = layers.Dense(512, activation=\"relu\")(inputs)\n",
    "features = layers.Dropout(0.5)(features)\n",
    "outputs = layers.Dense(10, activation=\"softmax\")(features)\n",
    "model = CustomModel(inputs, outputs)\n",
    "\n",
    "model.compile(optimizer=keras.optimizers.RMSprop())\n",
    "model.fit(train_images, train_labels, epochs=3)"
   ]
  },
  {
   "cell_type": "code",
   "execution_count": 50,
   "metadata": {
    "colab_type": "code"
   },
   "outputs": [],
   "source": [
    "class CustomModel(keras.Model):\n",
    "    def train_step(self, data):\n",
    "        inputs, targets = data\n",
    "        with tf.GradientTape() as tape:\n",
    "            predictions = self(inputs, training=True)\n",
    "            loss = self.compiled_loss(targets, predictions)\n",
    "        gradients = tape.gradient(loss, self.trainable_weights)\n",
    "        self.optimizer.apply_gradients(zip(gradients, self.trainable_weights))\n",
    "        self.compiled_metrics.update_state(targets, predictions)\n",
    "        return {m.name: m.result() for m in self.metrics}"
   ]
  },
  {
   "cell_type": "code",
   "execution_count": 51,
   "metadata": {
    "colab_type": "code"
   },
   "outputs": [
    {
     "name": "stdout",
     "output_type": "stream",
     "text": [
      "Epoch 1/3\n",
      "1563/1563 [==============================] - 4s 2ms/step - loss: 0.2925 - sparse_categorical_accuracy: 0.9138\n",
      "Epoch 2/3\n",
      "1563/1563 [==============================] - 4s 2ms/step - loss: 0.1635 - sparse_categorical_accuracy: 0.9542\n",
      "Epoch 3/3\n",
      "1563/1563 [==============================] - 3s 2ms/step - loss: 0.1401 - sparse_categorical_accuracy: 0.9627\n"
     ]
    },
    {
     "data": {
      "text/plain": [
       "<keras.callbacks.History at 0x23d7d5596a0>"
      ]
     },
     "execution_count": 51,
     "metadata": {},
     "output_type": "execute_result"
    }
   ],
   "source": [
    "inputs = keras.Input(shape=(28 * 28,))\n",
    "features = layers.Dense(512, activation=\"relu\")(inputs)\n",
    "features = layers.Dropout(0.5)(features)\n",
    "outputs = layers.Dense(10, activation=\"softmax\")(features)\n",
    "model = CustomModel(inputs, outputs)\n",
    "\n",
    "model.compile(optimizer=keras.optimizers.RMSprop(),\n",
    "              loss=keras.losses.SparseCategoricalCrossentropy(),\n",
    "              metrics=[keras.metrics.SparseCategoricalAccuracy()])\n",
    "model.fit(train_images, train_labels, epochs=3)"
   ]
  },
  {
   "cell_type": "markdown",
   "metadata": {
    "colab_type": "text"
   },
   "source": [
    "## Summary"
   ]
  }
 ],
 "metadata": {
  "colab": {
   "collapsed_sections": [],
   "name": "chapter07_working-with-keras.i",
   "private_outputs": false,
   "provenance": [],
   "toc_visible": true
  },
  "kernelspec": {
   "display_name": "Python 3.9.12 ('base')",
   "language": "python",
   "name": "python3"
  },
  "language_info": {
   "codemirror_mode": {
    "name": "ipython",
    "version": 3
   },
   "file_extension": ".py",
   "mimetype": "text/x-python",
   "name": "python",
   "nbconvert_exporter": "python",
   "pygments_lexer": "ipython3",
   "version": "3.9.12"
  },
  "vscode": {
   "interpreter": {
    "hash": "71a77cf6d3857461ac3c38ebff3fad34580257a95b1e5ea33ee9699e2f5f6585"
   }
  }
 },
 "nbformat": 4,
 "nbformat_minor": 0
}
