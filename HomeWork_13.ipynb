{
  "cells": [
    {
      "cell_type": "markdown",
      "metadata": {
        "id": "dg5nvEfyITK3"
      },
      "source": [
        "## The Transformer architecture"
      ]
    },
    {
      "cell_type": "markdown",
      "metadata": {
        "id": "FwWLknNFITK3"
      },
      "source": [
        "### Understanding self-attention"
      ]
    },
    {
      "cell_type": "markdown",
      "metadata": {
        "id": "J_vBys-fITK4"
      },
      "source": [
        "#### Generalized self-attention: the query-key-value model"
      ]
    },
    {
      "cell_type": "markdown",
      "metadata": {
        "id": "Q0pxyECNITK4"
      },
      "source": [
        "### Multi-head attention"
      ]
    },
    {
      "cell_type": "markdown",
      "metadata": {
        "id": "BDFWTsxgITK4"
      },
      "source": [
        "### The Transformer encoder"
      ]
    },
    {
      "cell_type": "markdown",
      "metadata": {
        "id": "nIdVAxDfITK4"
      },
      "source": [
        "**Getting the data**"
      ]
    },
    {
      "cell_type": "code",
      "execution_count": 1,
      "metadata": {
        "colab": {
          "base_uri": "https://localhost:8080/"
        },
        "id": "3pg3vbP5ITK5",
        "outputId": "6009cf8c-4ee7-47d1-ed1d-ceb0e135d0fc"
      },
      "outputs": [
        {
          "output_type": "stream",
          "name": "stdout",
          "text": [
            "  % Total    % Received % Xferd  Average Speed   Time    Time     Time  Current\n",
            "                                 Dload  Upload   Total   Spent    Left  Speed\n",
            "100 80.2M  100 80.2M    0     0  72.0M      0  0:00:01  0:00:01 --:--:-- 72.0M\n"
          ]
        }
      ],
      "source": [
        "!curl -O https://ai.stanford.edu/~amaas/data/sentiment/aclImdb_v1.tar.gz\n",
        "!tar -xf aclImdb_v1.tar.gz\n",
        "!rm -r aclImdb/train/unsup"
      ]
    },
    {
      "cell_type": "markdown",
      "metadata": {
        "id": "boOtUnuEITK5"
      },
      "source": [
        "**Preparing the data**"
      ]
    },
    {
      "cell_type": "code",
      "execution_count": 2,
      "metadata": {
        "colab": {
          "base_uri": "https://localhost:8080/"
        },
        "id": "ggng8PCiITK5",
        "outputId": "797057be-351f-47ed-9d86-6d834b79f806"
      },
      "outputs": [
        {
          "output_type": "stream",
          "name": "stdout",
          "text": [
            "Found 20000 files belonging to 2 classes.\n",
            "Found 5000 files belonging to 2 classes.\n",
            "Found 25000 files belonging to 2 classes.\n"
          ]
        }
      ],
      "source": [
        "import os, pathlib, shutil, random\n",
        "from tensorflow import keras\n",
        "batch_size = 32\n",
        "base_dir = pathlib.Path(\"aclImdb\")\n",
        "val_dir = base_dir / \"val\"\n",
        "train_dir = base_dir / \"train\"\n",
        "for category in (\"neg\", \"pos\"):\n",
        "    os.makedirs(val_dir / category)\n",
        "    files = os.listdir(train_dir / category)\n",
        "    random.Random(1337).shuffle(files)\n",
        "    num_val_samples = int(0.2 * len(files))\n",
        "    val_files = files[-num_val_samples:]\n",
        "    for fname in val_files:\n",
        "        shutil.move(train_dir / category / fname,\n",
        "                    val_dir / category / fname)\n",
        "\n",
        "train_ds = keras.utils.text_dataset_from_directory(\n",
        "    \"aclImdb/train\", batch_size=batch_size\n",
        ")\n",
        "val_ds = keras.utils.text_dataset_from_directory(\n",
        "    \"aclImdb/val\", batch_size=batch_size\n",
        ")\n",
        "test_ds = keras.utils.text_dataset_from_directory(\n",
        "    \"aclImdb/test\", batch_size=batch_size\n",
        ")\n",
        "text_only_train_ds = train_ds.map(lambda x, y: x)"
      ]
    },
    {
      "cell_type": "markdown",
      "metadata": {
        "id": "czhF8JGFITK6"
      },
      "source": [
        "**Vectorizing the data**"
      ]
    },
    {
      "cell_type": "code",
      "execution_count": 3,
      "metadata": {
        "id": "xf_cFInlITK6"
      },
      "outputs": [],
      "source": [
        "from tensorflow.keras import layers\n",
        "\n",
        "max_length = 600\n",
        "max_tokens = 20000\n",
        "text_vectorization = layers.TextVectorization(\n",
        "    max_tokens=max_tokens,\n",
        "    output_mode=\"int\",\n",
        "    output_sequence_length=max_length,\n",
        ")\n",
        "text_vectorization.adapt(text_only_train_ds)\n",
        "\n",
        "int_train_ds = train_ds.map(\n",
        "    lambda x, y: (text_vectorization(x), y),\n",
        "    num_parallel_calls=4)\n",
        "int_val_ds = val_ds.map(\n",
        "    lambda x, y: (text_vectorization(x), y),\n",
        "    num_parallel_calls=4)\n",
        "int_test_ds = test_ds.map(\n",
        "    lambda x, y: (text_vectorization(x), y),\n",
        "    num_parallel_calls=4)"
      ]
    },
    {
      "cell_type": "markdown",
      "metadata": {
        "id": "R5aT3zJCITK6"
      },
      "source": [
        "**Transformer encoder implemented as a subclassed `Layer`**"
      ]
    },
    {
      "cell_type": "code",
      "execution_count": 4,
      "metadata": {
        "id": "Apyf5xzvITK7"
      },
      "outputs": [],
      "source": [
        "import tensorflow as tf\n",
        "from tensorflow import keras\n",
        "from tensorflow.keras import layers\n",
        "\n",
        "class TransformerEncoder(layers.Layer):\n",
        "    def __init__(self, embed_dim, dense_dim, num_heads, **kwargs):\n",
        "        super().__init__(**kwargs)\n",
        "        self.embed_dim = embed_dim\n",
        "        self.dense_dim = dense_dim\n",
        "        self.num_heads = num_heads\n",
        "        self.attention = layers.MultiHeadAttention(\n",
        "            num_heads=num_heads, key_dim=embed_dim)\n",
        "        self.dense_proj = keras.Sequential(\n",
        "            [layers.Dense(dense_dim, activation=\"relu\"),\n",
        "             layers.Dense(embed_dim),]\n",
        "        )\n",
        "        self.layernorm_1 = layers.LayerNormalization()\n",
        "        self.layernorm_2 = layers.LayerNormalization()\n",
        "\n",
        "    def call(self, inputs, mask=None):\n",
        "        if mask is not None:\n",
        "            mask = mask[:, tf.newaxis, :]\n",
        "        attention_output = self.attention(\n",
        "            inputs, inputs, attention_mask=mask)\n",
        "        proj_input = self.layernorm_1(inputs + attention_output)\n",
        "        proj_output = self.dense_proj(proj_input)\n",
        "        return self.layernorm_2(proj_input + proj_output)\n",
        "\n",
        "    def get_config(self):\n",
        "        config = super().get_config()\n",
        "        config.update({\n",
        "            \"embed_dim\": self.embed_dim,\n",
        "            \"num_heads\": self.num_heads,\n",
        "            \"dense_dim\": self.dense_dim,\n",
        "        })\n",
        "        return config"
      ]
    },
    {
      "cell_type": "markdown",
      "metadata": {
        "id": "R3wBh9cRITK7"
      },
      "source": [
        "**Using the Transformer encoder for text classification**"
      ]
    },
    {
      "cell_type": "code",
      "execution_count": 5,
      "metadata": {
        "colab": {
          "base_uri": "https://localhost:8080/"
        },
        "id": "F1ExPfleITK7",
        "outputId": "5d99fa79-e44a-4596-f54a-f83c13f1c3bd"
      },
      "outputs": [
        {
          "output_type": "stream",
          "name": "stdout",
          "text": [
            "Model: \"model\"\n",
            "_________________________________________________________________\n",
            " Layer (type)                Output Shape              Param #   \n",
            "=================================================================\n",
            " input_1 (InputLayer)        [(None, None)]            0         \n",
            "                                                                 \n",
            " embedding (Embedding)       (None, None, 256)         5120000   \n",
            "                                                                 \n",
            " transformer_encoder (Transf  (None, None, 256)        543776    \n",
            " ormerEncoder)                                                   \n",
            "                                                                 \n",
            " global_max_pooling1d (Globa  (None, 256)              0         \n",
            " lMaxPooling1D)                                                  \n",
            "                                                                 \n",
            " dropout (Dropout)           (None, 256)               0         \n",
            "                                                                 \n",
            " dense_2 (Dense)             (None, 1)                 257       \n",
            "                                                                 \n",
            "=================================================================\n",
            "Total params: 5,664,033\n",
            "Trainable params: 5,664,033\n",
            "Non-trainable params: 0\n",
            "_________________________________________________________________\n"
          ]
        }
      ],
      "source": [
        "vocab_size = 20000\n",
        "embed_dim = 256\n",
        "num_heads = 2\n",
        "dense_dim = 32\n",
        "\n",
        "inputs = keras.Input(shape=(None,), dtype=\"int64\")\n",
        "x = layers.Embedding(vocab_size, embed_dim)(inputs)\n",
        "x = TransformerEncoder(embed_dim, dense_dim, num_heads)(x)\n",
        "x = layers.GlobalMaxPooling1D()(x)\n",
        "x = layers.Dropout(0.5)(x)\n",
        "outputs = layers.Dense(1, activation=\"sigmoid\")(x)\n",
        "model = keras.Model(inputs, outputs)\n",
        "model.compile(optimizer=\"rmsprop\",\n",
        "              loss=\"binary_crossentropy\",\n",
        "              metrics=[\"accuracy\"])\n",
        "model.summary()"
      ]
    },
    {
      "cell_type": "markdown",
      "metadata": {
        "id": "bgBWCIKQITK7"
      },
      "source": [
        "**Training and evaluating the Transformer encoder based model**"
      ]
    },
    {
      "cell_type": "code",
      "execution_count": 6,
      "metadata": {
        "colab": {
          "base_uri": "https://localhost:8080/"
        },
        "id": "lPQXFYfQITK7",
        "outputId": "53e2caa5-0b21-4636-8b59-3b2b5d7a62fb"
      },
      "outputs": [
        {
          "output_type": "stream",
          "name": "stdout",
          "text": [
            "Epoch 1/20\n",
            "625/625 [==============================] - 17s 15ms/step - loss: 0.4834 - accuracy: 0.7746 - val_loss: 0.3247 - val_accuracy: 0.8558\n",
            "Epoch 2/20\n",
            "625/625 [==============================] - 9s 14ms/step - loss: 0.3184 - accuracy: 0.8648 - val_loss: 0.2935 - val_accuracy: 0.8756\n",
            "Epoch 3/20\n",
            "625/625 [==============================] - 9s 14ms/step - loss: 0.2577 - accuracy: 0.8945 - val_loss: 0.2532 - val_accuracy: 0.8928\n",
            "Epoch 4/20\n",
            "625/625 [==============================] - 9s 14ms/step - loss: 0.2044 - accuracy: 0.9193 - val_loss: 0.2607 - val_accuracy: 0.8938\n",
            "Epoch 5/20\n",
            "625/625 [==============================] - 9s 14ms/step - loss: 0.1641 - accuracy: 0.9383 - val_loss: 0.4604 - val_accuracy: 0.8468\n",
            "Epoch 6/20\n",
            "625/625 [==============================] - 9s 14ms/step - loss: 0.1334 - accuracy: 0.9502 - val_loss: 0.3643 - val_accuracy: 0.8800\n",
            "Epoch 7/20\n",
            "625/625 [==============================] - 9s 14ms/step - loss: 0.1137 - accuracy: 0.9577 - val_loss: 0.3960 - val_accuracy: 0.8776\n",
            "Epoch 8/20\n",
            "625/625 [==============================] - 9s 14ms/step - loss: 0.0953 - accuracy: 0.9653 - val_loss: 0.5524 - val_accuracy: 0.8632\n",
            "Epoch 9/20\n",
            "625/625 [==============================] - 9s 14ms/step - loss: 0.0773 - accuracy: 0.9719 - val_loss: 0.4027 - val_accuracy: 0.8742\n",
            "Epoch 10/20\n",
            "625/625 [==============================] - 9s 14ms/step - loss: 0.0663 - accuracy: 0.9760 - val_loss: 0.4392 - val_accuracy: 0.8672\n",
            "Epoch 11/20\n",
            "625/625 [==============================] - 9s 14ms/step - loss: 0.0535 - accuracy: 0.9799 - val_loss: 0.6221 - val_accuracy: 0.8626\n",
            "Epoch 12/20\n",
            "625/625 [==============================] - 9s 14ms/step - loss: 0.0442 - accuracy: 0.9844 - val_loss: 0.5654 - val_accuracy: 0.8658\n",
            "Epoch 13/20\n",
            "625/625 [==============================] - 9s 14ms/step - loss: 0.0402 - accuracy: 0.9862 - val_loss: 0.7183 - val_accuracy: 0.8626\n",
            "Epoch 14/20\n",
            "625/625 [==============================] - 9s 14ms/step - loss: 0.0343 - accuracy: 0.9883 - val_loss: 0.8090 - val_accuracy: 0.8486\n",
            "Epoch 15/20\n",
            "625/625 [==============================] - 9s 14ms/step - loss: 0.0279 - accuracy: 0.9900 - val_loss: 0.9782 - val_accuracy: 0.8486\n",
            "Epoch 16/20\n",
            "625/625 [==============================] - 9s 14ms/step - loss: 0.0266 - accuracy: 0.9918 - val_loss: 0.8881 - val_accuracy: 0.8476\n",
            "Epoch 17/20\n",
            "625/625 [==============================] - 9s 14ms/step - loss: 0.0182 - accuracy: 0.9938 - val_loss: 1.1281 - val_accuracy: 0.8502\n",
            "Epoch 18/20\n",
            "625/625 [==============================] - 9s 14ms/step - loss: 0.0171 - accuracy: 0.9941 - val_loss: 0.9370 - val_accuracy: 0.8678\n",
            "Epoch 19/20\n",
            "625/625 [==============================] - 9s 14ms/step - loss: 0.0154 - accuracy: 0.9951 - val_loss: 0.9730 - val_accuracy: 0.8568\n",
            "Epoch 20/20\n",
            "625/625 [==============================] - 9s 14ms/step - loss: 0.0132 - accuracy: 0.9960 - val_loss: 1.2401 - val_accuracy: 0.8522\n",
            "782/782 [==============================] - 5s 6ms/step - loss: 0.2779 - accuracy: 0.8848\n",
            "Test acc: 0.885\n"
          ]
        }
      ],
      "source": [
        "callbacks = [\n",
        "    keras.callbacks.ModelCheckpoint(\"transformer_encoder.keras\",\n",
        "                                    save_best_only=True)\n",
        "]\n",
        "model.fit(int_train_ds, validation_data=int_val_ds, epochs=20, callbacks=callbacks)\n",
        "model = keras.models.load_model(\n",
        "    \"transformer_encoder.keras\",\n",
        "    custom_objects={\"TransformerEncoder\": TransformerEncoder})\n",
        "print(f\"Test acc: {model.evaluate(int_test_ds)[1]:.3f}\")"
      ]
    },
    {
      "cell_type": "markdown",
      "metadata": {
        "id": "eKLHiHgTITK8"
      },
      "source": [
        "#### Using positional encoding to re-inject order information"
      ]
    },
    {
      "cell_type": "markdown",
      "metadata": {
        "id": "Uh6wXOtqITK8"
      },
      "source": [
        "**Implementing positional embedding as a subclassed layer**"
      ]
    },
    {
      "cell_type": "code",
      "execution_count": 7,
      "metadata": {
        "id": "LlSNBO8JITK8"
      },
      "outputs": [],
      "source": [
        "class PositionalEmbedding(layers.Layer):\n",
        "    def __init__(self, sequence_length, input_dim, output_dim, **kwargs):\n",
        "        super().__init__(**kwargs)\n",
        "        self.token_embeddings = layers.Embedding(\n",
        "            input_dim=input_dim, output_dim=output_dim)\n",
        "        self.position_embeddings = layers.Embedding(\n",
        "            input_dim=sequence_length, output_dim=output_dim)\n",
        "        self.sequence_length = sequence_length\n",
        "        self.input_dim = input_dim\n",
        "        self.output_dim = output_dim\n",
        "\n",
        "    def call(self, inputs):\n",
        "        length = tf.shape(inputs)[-1]\n",
        "        positions = tf.range(start=0, limit=length, delta=1)\n",
        "        embedded_tokens = self.token_embeddings(inputs)\n",
        "        embedded_positions = self.position_embeddings(positions)\n",
        "        return embedded_tokens + embedded_positions\n",
        "\n",
        "    def compute_mask(self, inputs, mask=None):\n",
        "        return tf.math.not_equal(inputs, 0)\n",
        "\n",
        "    def get_config(self):\n",
        "        config = super().get_config()\n",
        "        config.update({\n",
        "            \"output_dim\": self.output_dim,\n",
        "            \"sequence_length\": self.sequence_length,\n",
        "            \"input_dim\": self.input_dim,\n",
        "        })\n",
        "        return config"
      ]
    },
    {
      "cell_type": "markdown",
      "metadata": {
        "id": "cA5OR1vZITK8"
      },
      "source": [
        "#### Putting it all together: A text-classification Transformer"
      ]
    },
    {
      "cell_type": "markdown",
      "metadata": {
        "id": "jCnbtDUXITK8"
      },
      "source": [
        "**Combining the Transformer encoder with positional embedding**"
      ]
    },
    {
      "cell_type": "code",
      "execution_count": 8,
      "metadata": {
        "colab": {
          "base_uri": "https://localhost:8080/"
        },
        "id": "FjwFgKmqITK8",
        "outputId": "5e5d85f3-79af-42f5-8938-e863c70b2070"
      },
      "outputs": [
        {
          "output_type": "stream",
          "name": "stdout",
          "text": [
            "Model: \"model_1\"\n",
            "_________________________________________________________________\n",
            " Layer (type)                Output Shape              Param #   \n",
            "=================================================================\n",
            " input_2 (InputLayer)        [(None, None)]            0         \n",
            "                                                                 \n",
            " positional_embedding (Posit  (None, None, 256)        5273600   \n",
            " ionalEmbedding)                                                 \n",
            "                                                                 \n",
            " transformer_encoder_1 (Tran  (None, None, 256)        543776    \n",
            " sformerEncoder)                                                 \n",
            "                                                                 \n",
            " global_max_pooling1d_1 (Glo  (None, 256)              0         \n",
            " balMaxPooling1D)                                                \n",
            "                                                                 \n",
            " dropout_1 (Dropout)         (None, 256)               0         \n",
            "                                                                 \n",
            " dense_7 (Dense)             (None, 1)                 257       \n",
            "                                                                 \n",
            "=================================================================\n",
            "Total params: 5,817,633\n",
            "Trainable params: 5,817,633\n",
            "Non-trainable params: 0\n",
            "_________________________________________________________________\n",
            "Epoch 1/20\n",
            "625/625 [==============================] - 12s 16ms/step - loss: 0.4832 - accuracy: 0.7746 - val_loss: 0.2709 - val_accuracy: 0.8864\n",
            "Epoch 2/20\n",
            "625/625 [==============================] - 9s 15ms/step - loss: 0.2367 - accuracy: 0.9057 - val_loss: 0.2766 - val_accuracy: 0.8944\n",
            "Epoch 3/20\n",
            "625/625 [==============================] - 9s 15ms/step - loss: 0.1736 - accuracy: 0.9347 - val_loss: 0.4642 - val_accuracy: 0.8364\n",
            "Epoch 4/20\n",
            "625/625 [==============================] - 9s 15ms/step - loss: 0.1436 - accuracy: 0.9477 - val_loss: 0.3789 - val_accuracy: 0.8860\n",
            "Epoch 5/20\n",
            "625/625 [==============================] - 9s 15ms/step - loss: 0.1233 - accuracy: 0.9549 - val_loss: 0.3622 - val_accuracy: 0.8912\n",
            "Epoch 6/20\n",
            "625/625 [==============================] - 9s 15ms/step - loss: 0.1079 - accuracy: 0.9607 - val_loss: 0.3468 - val_accuracy: 0.8874\n",
            "Epoch 7/20\n",
            "625/625 [==============================] - 9s 15ms/step - loss: 0.0954 - accuracy: 0.9653 - val_loss: 0.3161 - val_accuracy: 0.8846\n",
            "Epoch 8/20\n",
            "625/625 [==============================] - 9s 15ms/step - loss: 0.0881 - accuracy: 0.9683 - val_loss: 0.3459 - val_accuracy: 0.8786\n",
            "Epoch 9/20\n",
            "625/625 [==============================] - 9s 15ms/step - loss: 0.0798 - accuracy: 0.9714 - val_loss: 0.4723 - val_accuracy: 0.8828\n",
            "Epoch 10/20\n",
            "625/625 [==============================] - 9s 15ms/step - loss: 0.0704 - accuracy: 0.9757 - val_loss: 0.4904 - val_accuracy: 0.8806\n",
            "Epoch 11/20\n",
            "625/625 [==============================] - 9s 15ms/step - loss: 0.0615 - accuracy: 0.9782 - val_loss: 0.5720 - val_accuracy: 0.8634\n",
            "Epoch 12/20\n",
            "625/625 [==============================] - 9s 15ms/step - loss: 0.0571 - accuracy: 0.9807 - val_loss: 0.5506 - val_accuracy: 0.8748\n",
            "Epoch 13/20\n",
            "625/625 [==============================] - 9s 15ms/step - loss: 0.0514 - accuracy: 0.9819 - val_loss: 0.5916 - val_accuracy: 0.8762\n",
            "Epoch 14/20\n",
            "625/625 [==============================] - 9s 15ms/step - loss: 0.0489 - accuracy: 0.9833 - val_loss: 0.6636 - val_accuracy: 0.8706\n",
            "Epoch 15/20\n",
            "625/625 [==============================] - 9s 15ms/step - loss: 0.0457 - accuracy: 0.9848 - val_loss: 0.6364 - val_accuracy: 0.8684\n",
            "Epoch 16/20\n",
            "625/625 [==============================] - 9s 15ms/step - loss: 0.0394 - accuracy: 0.9858 - val_loss: 0.6797 - val_accuracy: 0.8688\n",
            "Epoch 17/20\n",
            "625/625 [==============================] - 9s 15ms/step - loss: 0.0343 - accuracy: 0.9878 - val_loss: 0.7294 - val_accuracy: 0.8708\n",
            "Epoch 18/20\n",
            "625/625 [==============================] - 9s 15ms/step - loss: 0.0280 - accuracy: 0.9911 - val_loss: 0.7152 - val_accuracy: 0.8590\n",
            "Epoch 19/20\n",
            "625/625 [==============================] - 9s 15ms/step - loss: 0.0280 - accuracy: 0.9908 - val_loss: 0.6545 - val_accuracy: 0.8676\n",
            "Epoch 20/20\n",
            "625/625 [==============================] - 9s 15ms/step - loss: 0.0255 - accuracy: 0.9911 - val_loss: 0.7771 - val_accuracy: 0.8678\n",
            "782/782 [==============================] - 6s 7ms/step - loss: 0.2908 - accuracy: 0.8804\n",
            "Test acc: 0.880\n"
          ]
        }
      ],
      "source": [
        "vocab_size = 20000\n",
        "sequence_length = 600\n",
        "embed_dim = 256\n",
        "num_heads = 2\n",
        "dense_dim = 32\n",
        "\n",
        "inputs = keras.Input(shape=(None,), dtype=\"int64\")\n",
        "x = PositionalEmbedding(sequence_length, vocab_size, embed_dim)(inputs)\n",
        "x = TransformerEncoder(embed_dim, dense_dim, num_heads)(x)\n",
        "x = layers.GlobalMaxPooling1D()(x)\n",
        "x = layers.Dropout(0.5)(x)\n",
        "outputs = layers.Dense(1, activation=\"sigmoid\")(x)\n",
        "model = keras.Model(inputs, outputs)\n",
        "model.compile(optimizer=\"rmsprop\",\n",
        "              loss=\"binary_crossentropy\",\n",
        "              metrics=[\"accuracy\"])\n",
        "model.summary()\n",
        "\n",
        "callbacks = [\n",
        "    keras.callbacks.ModelCheckpoint(\"full_transformer_encoder.keras\",\n",
        "                                    save_best_only=True)\n",
        "]\n",
        "model.fit(int_train_ds, validation_data=int_val_ds, epochs=20, callbacks=callbacks)\n",
        "model = keras.models.load_model(\n",
        "    \"full_transformer_encoder.keras\",\n",
        "    custom_objects={\"TransformerEncoder\": TransformerEncoder,\n",
        "                    \"PositionalEmbedding\": PositionalEmbedding})\n",
        "print(f\"Test acc: {model.evaluate(int_test_ds)[1]:.3f}\")"
      ]
    },
    {
      "cell_type": "markdown",
      "metadata": {
        "id": "Bzx_4kxYITK8"
      },
      "source": [
        "### When to use sequence models over bag-of-words models?"
      ]
    }
  ],
  "metadata": {
    "colab": {
      "provenance": [],
      "machine_shape": "hm"
    },
    "kernelspec": {
      "display_name": "Python 3",
      "language": "python",
      "name": "python3"
    },
    "language_info": {
      "codemirror_mode": {
        "name": "ipython",
        "version": 3
      },
      "file_extension": ".py",
      "mimetype": "text/x-python",
      "name": "python",
      "nbconvert_exporter": "python",
      "pygments_lexer": "ipython3",
      "version": "3.7.0"
    },
    "accelerator": "GPU",
    "gpuClass": "premium"
  },
  "nbformat": 4,
  "nbformat_minor": 0
}